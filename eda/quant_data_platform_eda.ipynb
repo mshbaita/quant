{
 "cells": [
  {
   "cell_type": "code",
   "execution_count": 1,
   "id": "0a03d3e8",
   "metadata": {},
   "outputs": [],
   "source": [
    "import os\n",
    "os.environ['AWS_ACCESS_KEY_ID'] = \"*******\"\n",
    "os.environ['AWS_SECRET_ACCESS_KEY'] = \"*******\""
   ]
  },
  {
   "cell_type": "code",
   "execution_count": 2,
   "id": "9e7560c8",
   "metadata": {
    "scrolled": true
   },
   "outputs": [
    {
     "name": "stderr",
     "output_type": "stream",
     "text": [
      "24/03/04 21:20:55 WARN Utils: Your hostname, Mohammads-MacBook-Pro.local resolves to a loopback address: 127.0.0.1; using 192.168.1.102 instead (on interface en0)\n",
      "24/03/04 21:20:55 WARN Utils: Set SPARK_LOCAL_IP if you need to bind to another address\n"
     ]
    },
    {
     "name": "stdout",
     "output_type": "stream",
     "text": [
      ":: loading settings :: url = jar:file:/Users/mohammadshbaita/miniforge3/lib/python3.9/site-packages/pyspark/jars/ivy-2.5.1.jar!/org/apache/ivy/core/settings/ivysettings.xml\n"
     ]
    },
    {
     "name": "stderr",
     "output_type": "stream",
     "text": [
      "Ivy Default Cache set to: /Users/mohammadshbaita/.ivy2/cache\n",
      "The jars for the packages stored in: /Users/mohammadshbaita/.ivy2/jars\n",
      "io.delta#delta-core_2.12 added as a dependency\n",
      "org.apache.hadoop#hadoop-aws added as a dependency\n",
      "com.amazonaws#aws-java-sdk-bundle added as a dependency\n",
      ":: resolving dependencies :: org.apache.spark#spark-submit-parent-0d2e933f-82ae-44bc-ab93-f1a90ca08607;1.0\n",
      "\tconfs: [default]\n",
      "\tfound io.delta#delta-core_2.12;2.4.0 in central\n",
      "\tfound io.delta#delta-storage;2.4.0 in central\n",
      "\tfound org.antlr#antlr4-runtime;4.9.3 in central\n",
      "\tfound org.apache.hadoop#hadoop-aws;3.3.4 in central\n",
      "\tfound org.wildfly.openssl#wildfly-openssl;1.0.7.Final in central\n",
      "\tfound com.amazonaws#aws-java-sdk-bundle;1.12.670 in central\n",
      ":: resolution report :: resolve 536ms :: artifacts dl 14ms\n",
      "\t:: modules in use:\n",
      "\tcom.amazonaws#aws-java-sdk-bundle;1.12.670 from central in [default]\n",
      "\tio.delta#delta-core_2.12;2.4.0 from central in [default]\n",
      "\tio.delta#delta-storage;2.4.0 from central in [default]\n",
      "\torg.antlr#antlr4-runtime;4.9.3 from central in [default]\n",
      "\torg.apache.hadoop#hadoop-aws;3.3.4 from central in [default]\n",
      "\torg.wildfly.openssl#wildfly-openssl;1.0.7.Final from central in [default]\n",
      "\t:: evicted modules:\n",
      "\tcom.amazonaws#aws-java-sdk-bundle;1.12.262 by [com.amazonaws#aws-java-sdk-bundle;1.12.670] in [default]\n",
      "\t---------------------------------------------------------------------\n",
      "\t|                  |            modules            ||   artifacts   |\n",
      "\t|       conf       | number| search|dwnlded|evicted|| number|dwnlded|\n",
      "\t---------------------------------------------------------------------\n",
      "\t|      default     |   7   |   0   |   0   |   1   ||   6   |   0   |\n",
      "\t---------------------------------------------------------------------\n",
      ":: retrieving :: org.apache.spark#spark-submit-parent-0d2e933f-82ae-44bc-ab93-f1a90ca08607\n",
      "\tconfs: [default]\n",
      "\t0 artifacts copied, 6 already retrieved (0kB/10ms)\n",
      "24/03/04 21:20:56 WARN NativeCodeLoader: Unable to load native-hadoop library for your platform... using builtin-java classes where applicable\n",
      "Setting default log level to \"WARN\".\n",
      "To adjust logging level use sc.setLogLevel(newLevel). For SparkR, use setLogLevel(newLevel).\n"
     ]
    }
   ],
   "source": [
    "from pyspark.sql import SparkSession\n",
    "import os\n",
    "import pandas as pd\n",
    "from sklearn.preprocessing import MinMaxScaler\n",
    "\n",
    "\n",
    "spark = (SparkSession.builder\n",
    "             .appName(\"quant-etl\")\n",
    "             .master(\"local[*]\")\n",
    "             .config(\"spark.driver.memory\", \"10g\")\n",
    "             .config(\"spark.sql.execution.arrow.pyspark.enabled\", \"true\")\n",
    "             .config(\"spark.databricks.delta.schema.autoMerge.enabled\", \"true\")\n",
    "             .config(\"spark.sql.debug.maxToStringFields\", 1000)\n",
    "             .config(\n",
    "                    \"spark.jars.packages\",\n",
    "                    \"io.delta:delta-core_2.12:2.4.0,\"\n",
    "                    \"org.apache.hadoop:hadoop-aws:3.3.4,\"\n",
    "                    \"com.amazonaws:aws-java-sdk-bundle:1.12.670\"\n",
    "                )\n",
    "             .config(\"spark.sql.extensions\", \"io.delta.sql.DeltaSparkSessionExtension\")\n",
    "             .config(\"spark.sql.catalog.spark_catalog\", \"org.apache.spark.sql.delta.catalog.DeltaCatalog\")\n",
    "             .config(\"spark.hadoop.fs.s3a.access.key\", os.getenv(\"AWS_ACCESS_KEY_ID\"))\n",
    "             .config(\"spark.hadoop.fs.s3a.secret.key\", os.getenv(\"AWS_SECRET_ACCESS_KEY\"))\n",
    "             .config(\"spark.hadoop.fs.s3a.endpoint\", \"s3.amazonaws.com\")\n",
    "             .config(\"spark.sql.warehouse.dir\", \"s3a://quantdata-warehouse\")\n",
    "             .getOrCreate())\n"
   ]
  },
  {
   "cell_type": "markdown",
   "id": "9e349211",
   "metadata": {},
   "source": [
    "##### Load the three tables from our warehouse (ad_details, district, property_type)"
   ]
  },
  {
   "cell_type": "code",
   "execution_count": 31,
   "id": "0f00fa7b",
   "metadata": {},
   "outputs": [
    {
     "name": "stderr",
     "output_type": "stream",
     "text": [
      "                                                                                \r"
     ]
    }
   ],
   "source": [
    "ad_table = spark.read.format(\"delta\").load(f\"s3a://quantdata-warehouse/ad_detail\").toPandas()\n",
    "district_table = spark.read.format(\"delta\").load(f\"s3a://quantdata-warehouse/district_detail\").toPandas()\n",
    "property_type_table = spark.read.format(\"delta\").load(f\"s3a://quantdata-warehouse/property_type\").toPandas()"
   ]
  },
  {
   "cell_type": "markdown",
   "id": "2b60e970",
   "metadata": {},
   "source": [
    "# Part Two \n",
    "1.Calculate the average rate increase in rent prices when switching from a 2-Bedroom Apartment to a 3-bedroom Apartment in Riyadh for both families and singles.\n",
    "\n",
    "2.Calculate the average duration it takes to close a post and mention the parameters that affect this duration. Also, mention the district with the shortest duration it takes to close a post with property type of villa.\n",
    "\n",
    "3.Provide the correlation matrix for the effects on prices after normalization for both rents and sales, and comment on the most price affecting parameters.\n",
    "\n",
    "4.Give a sales price valuation of rental properties (convert rental properties to sales properties) based on 6% ROI (Return on Investment) then estimate the meter price distribution per property type and district and comment on the result.\n",
    "\n",
    "5.Add any general insights you find during your work on the data\n"
   ]
  },
  {
   "cell_type": "markdown",
   "id": "14890bd1",
   "metadata": {},
   "source": [
    "# Data Preprocessing "
   ]
  },
  {
   "cell_type": "markdown",
   "id": "19fa0bae",
   "metadata": {},
   "source": [
    "### Hot Encoders"
   ]
  },
  {
   "cell_type": "code",
   "execution_count": 34,
   "id": "1992e0fc",
   "metadata": {},
   "outputs": [],
   "source": [
    "def encode_swimming_pool(value):\n",
    "    if value == 'مسبح':\n",
    "        return 1\n",
    "    else:\n",
    "        return 0\n",
    "    \n",
    "def encode_is_closed(value):\n",
    "    if value=='مغلق':\n",
    "        return 0\n",
    "    else:\n",
    "        return 1\n",
    "def encode_is_commercial(value):\n",
    "     if value == 'تجاري':\n",
    "        return 0\n",
    "     elif value == 'سكني':\n",
    "        return 1\n",
    "     elif value == 'كلاهما':\n",
    "        return 2\n",
    "     else:\n",
    "        return 3\n",
    "    \n",
    "def encode_is_driver_room_exist(value):\n",
    "\n",
    "     if value == 'غرفة سائق':\n",
    "        return 1\n",
    "     else:\n",
    "        return 0\n",
    "    \n",
    "def encode_is_duplex(value):\n",
    "    if value == 'دوبلكس':\n",
    "        return 1\n",
    "    else:\n",
    "        return 0\n",
    "    \n",
    "def encode_is_couple(value):\n",
    "    if value == 'عزاب':\n",
    "        return 0\n",
    "    else:\n",
    "        return 1\n",
    "\n",
    "def encode_is_furnished(value):\n",
    "    if value == 'مؤثثة':\n",
    "        return 1\n",
    "    else:\n",
    "        return 0\n",
    "\n",
    "def encode_is_maid_room_exist(value):\n",
    "\n",
    "     if value == 'غرفة خادمة':\n",
    "        return 1\n",
    "     else:\n",
    "        return 0\n",
    "\n",
    "def encode_is_owner(value):\n",
    "     if value == 'مالك':\n",
    "        return 1\n",
    "     else:\n",
    "        return 0\n",
    "    \n",
    "def encode_is_rent_type(value):\n",
    "     if value == 'سنوي':\n",
    "        return 0\n",
    "     elif value == 'يومي':\n",
    "        return 1\n",
    "     elif value == 'شهري':\n",
    "        return 2\n",
    "     else:\n",
    "        return 3\n",
    "    \n",
    "def encode_is_street_direction(value):\n",
    "     if value == 'شرق':\n",
    "        return 0\n",
    "     elif value == '3 شوارع':\n",
    "        return 1\n",
    "     elif value == 'جنوب غربي':\n",
    "        return 2\n",
    "     elif value == 'جنوب':\n",
    "        return 3\n",
    "     elif value == 'جنوب غربي':\n",
    "        return 4\n",
    "     elif value == 'شمال':\n",
    "        return 5\n",
    "     elif value == 'غرب':\n",
    "        return 6\n",
    "     elif value == 'شمال غربي':\n",
    "        return 7\n",
    "     elif value == '4 شوارع':\n",
    "        return 8\n",
    "     elif value == 'جنوب شرقي':\n",
    "        return 9\n",
    "     elif value == 'شمال شرقي':\n",
    "        return 10\n",
    "     else:\n",
    "        return 11\n",
    "\n",
    "def encode_is_rent_or_sale(value):\n",
    "      if value == 'للإيجار':\n",
    "        return 1\n",
    "      elif value == 'للبيع':\n",
    "        return 0\n",
    "      elif value == 'SALE':\n",
    "        return 0\n",
    "      elif value == 'RENT':\n",
    "        return 1\n",
    "      else:\n",
    "        return 2\n",
    "        \n",
    "def encode_is_paid(value):\n",
    "      if value == 'مجاني':\n",
    "        return 0\n",
    "      elif value == 'مدفوع':\n",
    "        return 1\n",
    "      else:\n",
    "        return 2\n",
    "         "
   ]
  },
  {
   "cell_type": "code",
   "execution_count": 35,
   "id": "0a65776d",
   "metadata": {},
   "outputs": [],
   "source": [
    "ad_table['has_swimming_pool'] = ad_table['has_swimming_pool'].apply(encode_swimming_pool)\n",
    "ad_table['is_closed'] = ad_table['is_closed'].apply(encode_is_closed)\n",
    "ad_table['residential_or_commercial'] = ad_table['residential_or_commercial'].apply(encode_is_commercial)\n",
    "ad_table['driver_room'] = ad_table['driver_room'].apply(encode_is_driver_room_exist)\n",
    "ad_table['is_duplex'] = ad_table['is_duplex'].apply(encode_is_duplex)\n",
    "ad_table['families_or_singles'] = ad_table['families_or_singles'].apply(encode_is_couple)\n",
    "ad_table['is_furnished'] = ad_table['is_furnished'].apply(encode_is_furnished)\n",
    "ad_table['maid_room'] = ad_table['maid_room'].apply(encode_is_maid_room_exist)\n",
    "ad_table['advertiser_type'] = ad_table['advertiser_type'].apply(encode_is_owner)\n",
    "ad_table['rent_type'] = ad_table['rent_type'].apply(encode_is_rent_type)\n",
    "ad_table['street_direction'] = ad_table['street_direction'].apply(encode_is_street_direction)\n",
    "ad_table['purpose'] = ad_table['purpose'].apply(encode_is_rent_or_sale)\n",
    "ad_table['is_paid'] = ad_table['is_paid'].apply(encode_is_paid)"
   ]
  },
  {
   "cell_type": "code",
   "execution_count": 36,
   "id": "46640ac3",
   "metadata": {},
   "outputs": [
    {
     "data": {
      "text/plain": [
       "array([0, 3, 2, 1])"
      ]
     },
     "execution_count": 36,
     "metadata": {},
     "output_type": "execute_result"
    }
   ],
   "source": [
    "ad_table[\"rent_type\"].unique()"
   ]
  },
  {
   "cell_type": "code",
   "execution_count": 37,
   "id": "4dcb8a5b",
   "metadata": {},
   "outputs": [
    {
     "data": {
      "text/plain": [
       "array([1, 0])"
      ]
     },
     "execution_count": 37,
     "metadata": {},
     "output_type": "execute_result"
    }
   ],
   "source": [
    "ad_table['purpose'].unique()"
   ]
  },
  {
   "cell_type": "markdown",
   "id": "324c576d",
   "metadata": {},
   "source": [
    "### Change Data Types"
   ]
  },
  {
   "cell_type": "code",
   "execution_count": 66,
   "id": "da4d4e3d",
   "metadata": {},
   "outputs": [],
   "source": [
    "ad_table['price'] = pd.to_numeric(ad_table['price'], errors='coerce')\n",
    "ad_table['number_of_bedrooms'] = pd.to_numeric(ad_table['number_of_bedrooms'], downcast='integer', errors='coerce')\n",
    "ad_table['number_of_apartments'] = pd.to_numeric(ad_table['number_of_apartments'], downcast='integer', errors='coerce')\n",
    "ad_table['floor'] = pd.to_numeric(ad_table['floor'], downcast='integer', errors='coerce')\n",
    "ad_table['number_of_kitchens'] = pd.to_numeric(ad_table['number_of_kitchens'], downcast='integer', errors='coerce')\n",
    "ad_table['has_swimming_pool'] = pd.to_numeric(ad_table['has_swimming_pool'], downcast='integer', errors='coerce')\n",
    "ad_table['is_closed'] = pd.to_numeric(ad_table['is_closed'], downcast='integer', errors='coerce')\n",
    "ad_table['residential_or_commercial'] = pd.to_numeric(ad_table['residential_or_commercial'], downcast='integer', errors='coerce')\n",
    "ad_table['driver_room'] = pd.to_numeric(ad_table['driver_room'], downcast='integer', errors='coerce')\n",
    "ad_table['is_duplex'] = pd.to_numeric(ad_table['is_duplex'], downcast='integer', errors='coerce')\n",
    "ad_table['families_or_singles'] = pd.to_numeric(ad_table['families_or_singles'], downcast='integer', errors='coerce')\n",
    "ad_table['is_furnished'] = pd.to_numeric(ad_table['is_furnished'], downcast='integer', errors='coerce')\n",
    "ad_table['maid_room'] = pd.to_numeric(ad_table['maid_room'], downcast='integer', errors='coerce')\n",
    "ad_table['advertiser_type'] = pd.to_numeric(ad_table['advertiser_type'], downcast='integer', errors='coerce')\n",
    "ad_table['street_direction'] = pd.to_numeric(ad_table['street_direction'], downcast='integer', errors='coerce')\n",
    "ad_table['purpose'] = pd.to_numeric(ad_table['purpose'], downcast='integer', errors='coerce')\n",
    "ad_table['is_paid'] = pd.to_numeric(ad_table['is_paid'], downcast='integer', errors='coerce')\n",
    "ad_table['created_at'] = pd.to_datetime(ad_table['created_at'], errors='coerce', utc=True)\n",
    "ad_table['updated_at'] = pd.to_datetime(ad_table['updated_at'], errors='coerce', utc=True)"
   ]
  },
  {
   "cell_type": "markdown",
   "id": "fa0f08f6",
   "metadata": {},
   "source": [
    "### ================================================================================================================================================="
   ]
  },
  {
   "cell_type": "markdown",
   "id": "d71d42e0",
   "metadata": {},
   "source": [
    "## Average Rate Increase\n",
    "Calculate the average rate increase in rent prices when switching from a 2-Bedroom Apartment to a 3-bedroom Apartment in Riyadh for both families and singles."
   ]
  },
  {
   "cell_type": "markdown",
   "id": "a5a40b49",
   "metadata": {},
   "source": [
    "### ================================================================================================================================================="
   ]
  },
  {
   "cell_type": "markdown",
   "id": "9787594d",
   "metadata": {},
   "source": [
    "##### Filter district table for Riyadh"
   ]
  },
  {
   "cell_type": "code",
   "execution_count": 67,
   "id": "afd4c2d0",
   "metadata": {},
   "outputs": [],
   "source": [
    "riyadh_district_ids = district_table[(district_table['city_name_en'] == 'Riyadh') | (district_table['city_name_ar'] == 'الرياض') | (district_table['province_name'] == 'الرياض')]['district_id']\n",
    "riyadh_ads = ad_table[ad_table['district_id'].isin(riyadh_district_ids)]"
   ]
  },
  {
   "cell_type": "markdown",
   "id": "6699eb0a",
   "metadata": {},
   "source": [
    "##### Filter only the apartment porperty type \n"
   ]
  },
  {
   "cell_type": "code",
   "execution_count": 68,
   "id": "f29e0975",
   "metadata": {},
   "outputs": [
    {
     "data": {
      "text/plain": [
       "24850"
      ]
     },
     "execution_count": 68,
     "metadata": {},
     "output_type": "execute_result"
    }
   ],
   "source": [
    "property_type_ids = property_type_table[(property_type_table['property_type'] == 'شقة')| (property_type_table['property_type'] == 'APARTMENT' )]['property_type_id']\n",
    "apartment_ads = ad_table[ad_table['property_type_id'].isin(property_type_ids)]\n",
    "len(apartment_ads.index)"
   ]
  },
  {
   "cell_type": "code",
   "execution_count": 85,
   "id": "19714879",
   "metadata": {},
   "outputs": [
    {
     "data": {
      "text/plain": [
       "Index(['id', 'district_id', 'property_type_id', 'district_name_en',\n",
       "       'property_type', 'property_age_less_than', 'number_of_apartments',\n",
       "       'number_of_bedrooms', 'floor', 'number_of_kitchens', 'is_closed',\n",
       "       'residential_or_commercial', 'driver_room', 'is_duplex',\n",
       "       'families_or_singles', 'is_furnished', 'halls_Num', 'maid_room',\n",
       "       'price_per_meter', 'advertiser_type', 'has_swimming_pool', 'is_paid',\n",
       "       'price', 'purpose', 'rent_type', 'rooms_num', 'space',\n",
       "       'street_direction', 'street_width_range', 'toilets_num', 'latitude',\n",
       "       'longitude', 'property_age_range', 'created_at', 'updated_at',\n",
       "       'data_source'],\n",
       "      dtype='object')"
      ]
     },
     "execution_count": 85,
     "metadata": {},
     "output_type": "execute_result"
    }
   ],
   "source": [
    "apartment_ads.columns"
   ]
  },
  {
   "cell_type": "markdown",
   "id": "ba6d953e",
   "metadata": {},
   "source": [
    "##### Filter on rent type = Monthly, purpose = For Rent and is not furnished"
   ]
  },
  {
   "cell_type": "code",
   "execution_count": 86,
   "id": "1554c073",
   "metadata": {},
   "outputs": [
    {
     "data": {
      "text/plain": [
       "730"
      ]
     },
     "execution_count": 86,
     "metadata": {},
     "output_type": "execute_result"
    }
   ],
   "source": [
    "rent_ads = apartment_ads[(apartment_ads['purpose'] == 1) & (apartment_ads['rent_type'] == 2) & (apartment_ads['is_furnished'] == 0) & (apartment_ads[\"is_duplex\"] == 0)]\n",
    "len(rent_ads.index)"
   ]
  },
  {
   "cell_type": "markdown",
   "id": "a0c67508",
   "metadata": {},
   "source": [
    "##### Two bedrooms and three bedrooms for families and singles"
   ]
  },
  {
   "cell_type": "code",
   "execution_count": 70,
   "id": "32b2dbff",
   "metadata": {
    "scrolled": false
   },
   "outputs": [
    {
     "name": "stdout",
     "output_type": "stream",
     "text": [
      "number of records for two_bedroom_families: 92\n",
      "number of records for three_bedroom_families: 201\n",
      "number of records for two_bedroom_singles: 67\n",
      "number of records for three_bedroom_singles: 21\n",
      "\n"
     ]
    }
   ],
   "source": [
    "two_bedroom_families = rent_ads[(rent_ads['number_of_bedrooms'] == 2) & (rent_ads['families_or_singles'] == 1)]\n",
    "three_bedroom_families = rent_ads[(rent_ads['number_of_bedrooms'] == 3) & (rent_ads['families_or_singles'] == 1)]\n",
    "\n",
    "two_bedroom_singles = rent_ads[(rent_ads['number_of_bedrooms'] == 2) & (rent_ads['families_or_singles'] == 0)]\n",
    "three_bedroom_singles = rent_ads[(rent_ads['number_of_bedrooms'] == 3) & (rent_ads['families_or_singles'] == 0)]\n",
    "\n",
    "(print(f\"number of records for two_bedroom_families: {len(two_bedroom_families.index)}\\n\"\n",
    "      f\"number of records for three_bedroom_families: {len(three_bedroom_families.index)}\\n\"\n",
    "      f\"number of records for two_bedroom_singles: {len(two_bedroom_singles.index)}\\n\"\n",
    "      f\"number of records for three_bedroom_singles: {len(three_bedroom_singles.index)}\\n\")\n",
    ")"
   ]
  },
  {
   "cell_type": "code",
   "execution_count": 163,
   "id": "04107a15",
   "metadata": {},
   "outputs": [],
   "source": [
    "two_bedroom_families.to_csv(\"two_bedroom_families.csv\")\n",
    "three_bedroom_families.to_csv(\"three_bedroom_families.csv\")\n",
    "two_bedroom_singles.to_csv(\"two_bedroom_singles.csv\")\n",
    "three_bedroom_singles.to_csv(\"three_bedroom_singles.csv\")"
   ]
  },
  {
   "cell_type": "code",
   "execution_count": 77,
   "id": "49ee6dc7",
   "metadata": {},
   "outputs": [
    {
     "data": {
      "text/html": [
       "<div>\n",
       "<style scoped>\n",
       "    .dataframe tbody tr th:only-of-type {\n",
       "        vertical-align: middle;\n",
       "    }\n",
       "\n",
       "    .dataframe tbody tr th {\n",
       "        vertical-align: top;\n",
       "    }\n",
       "\n",
       "    .dataframe thead th {\n",
       "        text-align: right;\n",
       "    }\n",
       "</style>\n",
       "<table border=\"1\" class=\"dataframe\">\n",
       "  <thead>\n",
       "    <tr style=\"text-align: right;\">\n",
       "      <th></th>\n",
       "      <th>id</th>\n",
       "      <th>district_id</th>\n",
       "      <th>property_type_id</th>\n",
       "      <th>district_name_en</th>\n",
       "      <th>property_type</th>\n",
       "      <th>property_age_less_than</th>\n",
       "      <th>number_of_apartments</th>\n",
       "      <th>number_of_bedrooms</th>\n",
       "      <th>floor</th>\n",
       "      <th>number_of_kitchens</th>\n",
       "      <th>...</th>\n",
       "      <th>space</th>\n",
       "      <th>street_direction</th>\n",
       "      <th>street_width_range</th>\n",
       "      <th>toilets_num</th>\n",
       "      <th>latitude</th>\n",
       "      <th>longitude</th>\n",
       "      <th>property_age_range</th>\n",
       "      <th>created_at</th>\n",
       "      <th>updated_at</th>\n",
       "      <th>data_source</th>\n",
       "    </tr>\n",
       "  </thead>\n",
       "  <tbody>\n",
       "  </tbody>\n",
       "</table>\n",
       "<p>0 rows × 36 columns</p>\n",
       "</div>"
      ],
      "text/plain": [
       "Empty DataFrame\n",
       "Columns: [id, district_id, property_type_id, district_name_en, property_type, property_age_less_than, number_of_apartments, number_of_bedrooms, floor, number_of_kitchens, is_closed, residential_or_commercial, driver_room, is_duplex, families_or_singles, is_furnished, halls_Num, maid_room, price_per_meter, advertiser_type, has_swimming_pool, is_paid, price, purpose, rent_type, rooms_num, space, street_direction, street_width_range, toilets_num, latitude, longitude, property_age_range, created_at, updated_at, data_source]\n",
       "Index: []\n",
       "\n",
       "[0 rows x 36 columns]"
      ]
     },
     "execution_count": 77,
     "metadata": {},
     "output_type": "execute_result"
    }
   ],
   "source": [
    "df_zero_or_below = three_bedroom_singles[three_bedroom_singles['price'] <= 0]\n",
    "# three_bedroom_families['price'].isna().sum()\n",
    "# two_bedroom_singles['price'].isna().sum()\n",
    "# three_bedroom_singles['price'].isna().sum()\n",
    "df_zero_or_below"
   ]
  },
  {
   "cell_type": "markdown",
   "id": "9df3ac03",
   "metadata": {},
   "source": [
    "##### Calculate average prices"
   ]
  },
  {
   "cell_type": "code",
   "execution_count": 78,
   "id": "9b3fc877",
   "metadata": {},
   "outputs": [
    {
     "name": "stdout",
     "output_type": "stream",
     "text": [
      "avg_price_two_bedroom_families: 120204.6171875\n",
      "avg_price_three_bedroom_families: 58250572.0\n",
      "two_bedroom_singles: 13007.4482421875\n",
      "three_bedroom_singles: 23981276.0\n",
      "\n"
     ]
    }
   ],
   "source": [
    "avg_price_two_bedroom_families = two_bedroom_families['price'].mean()\n",
    "avg_price_three_bedroom_families = three_bedroom_families['price'].mean()\n",
    "avg_price_two_bedroom_singles = two_bedroom_singles['price'].mean()\n",
    "avg_price_three_bedroom_singles = three_bedroom_singles['price'].mean()\n",
    "(print(f\"avg_price_two_bedroom_families: {avg_price_two_bedroom_families}\\n\"\n",
    "      f\"avg_price_three_bedroom_families: {avg_price_three_bedroom_families}\\n\"\n",
    "      f\"two_bedroom_singles: {avg_price_two_bedroom_singles}\\n\"\n",
    "      f\"three_bedroom_singles: {avg_price_three_bedroom_singles}\\n\")\n",
    ")"
   ]
  },
  {
   "cell_type": "markdown",
   "id": "3e987054",
   "metadata": {},
   "source": [
    "##### Calculate rate increase"
   ]
  },
  {
   "cell_type": "code",
   "execution_count": 79,
   "id": "cb3aa9ad",
   "metadata": {},
   "outputs": [],
   "source": [
    "rate_increase_families = ((avg_price_three_bedroom_families - avg_price_two_bedroom_families) / avg_price_two_bedroom_families) * 100\n",
    "rate_increase_singles = ((avg_price_three_bedroom_singles - avg_price_two_bedroom_singles) / avg_price_two_bedroom_singles) * 100\n",
    "\n"
   ]
  },
  {
   "cell_type": "markdown",
   "id": "5472fc84",
   "metadata": {},
   "source": [
    "##### Calculate the average rate increase in rent prices when switching from a 2-Bedroom Apartment to a 3-bedroom Apartment in Riyadh for both families and singles."
   ]
  },
  {
   "cell_type": "code",
   "execution_count": 80,
   "id": "daddb2dd",
   "metadata": {},
   "outputs": [
    {
     "data": {
      "text/plain": [
       "(48359.51232910156, 184265.72265625)"
      ]
     },
     "execution_count": 80,
     "metadata": {},
     "output_type": "execute_result"
    }
   ],
   "source": [
    "rate_increase_families, rate_increase_singles"
   ]
  },
  {
   "cell_type": "markdown",
   "id": "a3e0f714",
   "metadata": {},
   "source": [
    "#### The above data indicates that there is a problem in it"
   ]
  },
  {
   "cell_type": "markdown",
   "id": "25648f83",
   "metadata": {},
   "source": [
    "##### Step 1: Analyze and Visualize Price Distributions"
   ]
  },
  {
   "cell_type": "code",
   "execution_count": 164,
   "id": "b2b04fd3",
   "metadata": {},
   "outputs": [
    {
     "data": {
      "image/png": "[encoded data removed]",
      "text/plain": [
       "<Figure size 1400x600 with 2 Axes>"
      ]
     },
     "metadata": {},
     "output_type": "display_data"
    }
   ],
   "source": [
    "fig, ax = plt.subplots(1, 2, figsize=(14, 6))\n",
    "\n",
    "# Distribution of prices for 3-bedroom families apartments\n",
    "ax[0].hist(three_bedroom_families['price'], bins=30, color='skyblue', edgecolor='black')\n",
    "ax[0].set_title('Price Distribution for 3-Bedroom Apartments (Families)')\n",
    "ax[0].set_xlabel('Price')\n",
    "ax[0].set_ylabel('Frequency')\n",
    "\n",
    "# Distribution of prices for 3-bedroom singles apartments\n",
    "ax[1].hist(three_bedroom_singles['price'], bins=30, color='lightgreen', edgecolor='black')\n",
    "ax[1].set_title('Price Distribution for 3-Bedroom Apartments (Singles)')\n",
    "ax[1].set_xlabel('Price')\n",
    "ax[1].set_ylabel('Frequency')\n",
    "\n",
    "plt.tight_layout()\n",
    "plt.show()"
   ]
  },
  {
   "cell_type": "markdown",
   "id": "089afb20",
   "metadata": {},
   "source": [
    "##### Function to remove outliers"
   ]
  },
  {
   "cell_type": "code",
   "execution_count": 166,
   "id": "e762a11e",
   "metadata": {},
   "outputs": [],
   "source": [
    "def remove_outliers(df, column_name):\n",
    "    \"\"\"\n",
    "    Remove outliers from a dataframe based on the column specified.\n",
    "    Outliers are defined as values more than 3 standard deviations from the mean.\n",
    "    \"\"\"\n",
    "    mean = df[column_name].mean()\n",
    "    std_dev = df[column_name].std()\n",
    "    cutoff = std_dev * 3\n",
    "    lower_bound = mean - cutoff\n",
    "    upper_bound = mean + cutoff\n",
    "    \n",
    "    # Filter out the outliers\n",
    "    cleaned_df = df[(df[column_name] >= lower_bound) & (df[column_name] <= upper_bound)]\n",
    "    return cleaned_df"
   ]
  },
  {
   "cell_type": "code",
   "execution_count": 167,
   "id": "27158def",
   "metadata": {},
   "outputs": [
    {
     "data": {
      "image/png": "[encoded data removed]",
      "text/plain": [
       "<Figure size 1400x600 with 2 Axes>"
      ]
     },
     "metadata": {},
     "output_type": "display_data"
    }
   ],
   "source": [
    "# Initial visualization of price distributions for 3-bedroom apartments\n",
    "fig, ax = plt.subplots(1, 2, figsize=(14, 6))\n",
    "\n",
    "# 3-bedroom families apartments before cleaning\n",
    "ax[0].hist(three_bedroom_families['price'], bins=30, color='skyblue', edgecolor='black')\n",
    "ax[0].set_title('Before Cleaning: Price Distribution for 3-Bedroom Apartments (Families)')\n",
    "ax[0].set_xlabel('Price (SAR)')\n",
    "ax[0].set_ylabel('Frequency')\n",
    "ax[0].set_xlim([0, 100000000])  # Adjust based on your data to improve readability\n",
    "\n",
    "# 3-bedroom singles apartments before cleaning\n",
    "ax[1].hist(three_bedroom_singles['price'], bins=30, color='lightgreen', edgecolor='black')\n",
    "ax[1].set_title('Before Cleaning: Price Distribution for 3-Bedroom Apartments (Singles)')\n",
    "ax[1].set_xlabel('Price (SAR)')\n",
    "ax[1].set_ylabel('Frequency')\n",
    "ax[1].set_xlim([0, 100000000])  # Adjust based on your data to improve readability\n",
    "\n",
    "plt.tight_layout()\n",
    "plt.show()\n",
    "\n",
    "\n"
   ]
  },
  {
   "cell_type": "markdown",
   "id": "7a5c3c80",
   "metadata": {},
   "source": [
    "Before Cleaning (Families and Singles): These histograms show the original price distributions for 3-bedroom apartments, catering to families and singles. The wide range of prices, especially with some extremely high values, indicates the presence of outliers that could significantly affect the average price calculations.\n"
   ]
  },
  {
   "cell_type": "markdown",
   "id": "a0c24a2a",
   "metadata": {},
   "source": [
    "##### Remove outliers from the 3-bedroom datasets\n"
   ]
  },
  {
   "cell_type": "code",
   "execution_count": 168,
   "id": "6eaf2295",
   "metadata": {},
   "outputs": [],
   "source": [
    "three_bedroom_families_cleaned = remove_outliers(three_bedroom_families, 'price')\n",
    "three_bedroom_singles_cleaned = remove_outliers(three_bedroom_singles, 'price')"
   ]
  },
  {
   "cell_type": "markdown",
   "id": "915b8261",
   "metadata": {},
   "source": [
    "##### Visualization of price distributions after removing outliers"
   ]
  },
  {
   "cell_type": "code",
   "execution_count": 169,
   "id": "2b5b153d",
   "metadata": {},
   "outputs": [
    {
     "data": {
      "image/png": "[encoded data removed]",
      "text/plain": [
       "<Figure size 1400x1200 with 4 Axes>"
      ]
     },
     "metadata": {},
     "output_type": "display_data"
    }
   ],
   "source": [
    "fig, ax = plt.subplots(2, 2, figsize=(14, 12), sharex=True)\n",
    "\n",
    "# Before cleaning - families\n",
    "ax[0, 0].hist(three_bedroom_families['price'], bins=30, color='skyblue', edgecolor='black')\n",
    "ax[0, 0].set_title('Before Cleaning: 3-Bedroom Apartments (Families)')\n",
    "ax[0, 0].set_xlabel('Price (SAR)')\n",
    "ax[0, 0].set_ylabel('Frequency')\n",
    "\n",
    "# After cleaning - families\n",
    "ax[1, 0].hist(three_bedroom_families_cleaned['price'], bins=30, color='skyblue', edgecolor='black')\n",
    "ax[1, 0].set_title('After Cleaning: 3-Bedroom Apartments (Families)')\n",
    "ax[1, 0].set_xlabel('Price (SAR)')\n",
    "ax[1, 0].set_ylabel('Frequency')\n",
    "\n",
    "# Before cleaning - singles\n",
    "ax[0, 1].hist(three_bedroom_singles['price'], bins=30, color='lightgreen', edgecolor='black')\n",
    "ax[0, 1].set_title('Before Cleaning: 3-Bedroom Apartments (Singles)')\n",
    "ax[0, 1].set_xlabel('Price (SAR)')\n",
    "ax[0, 1].set_ylabel('Frequency')\n",
    "\n",
    "# After cleaning - singles\n",
    "ax[1, 1].hist(three_bedroom_singles_cleaned['price'], bins=30, color='lightgreen', edgecolor='black')\n",
    "ax[1, 1].set_title('After Cleaning: 3-Bedroom Apartments (Singles)')\n",
    "ax[1, 1].set_xlabel('Price (SAR)')\n",
    "ax[1, 1].set_ylabel('Frequency')\n",
    "\n",
    "plt.tight_layout()\n",
    "plt.show()\n"
   ]
  },
  {
   "cell_type": "markdown",
   "id": "9ae07a06",
   "metadata": {},
   "source": [
    "After Cleaning (Families and Singles): After removing outliers (defined as prices more than 3 standard deviations from the mean), these histograms present the cleaned price distributions. The distributions are now more concentrated, indicating a removal of extreme values. This cleaning process should lead to more representative average price calculations.\n"
   ]
  },
  {
   "cell_type": "markdown",
   "id": "ce29a6f2",
   "metadata": {},
   "source": [
    "##### Recalculate the average prices without outliers"
   ]
  },
  {
   "cell_type": "code",
   "execution_count": 170,
   "id": "935cf5da",
   "metadata": {},
   "outputs": [
    {
     "name": "stdout",
     "output_type": "stream",
     "text": [
      "Average price for a 3-bedroom apartment for families (cleaned): 2986318.75 SAR\n",
      "Average price for a 3-bedroom apartment for singles (cleaned): 5840.00 SAR\n"
     ]
    }
   ],
   "source": [
    "avg_price_three_bedroom_families_cleaned = three_bedroom_families_cleaned['price'].mean()\n",
    "avg_price_three_bedroom_singles_cleaned = three_bedroom_singles_cleaned['price'].mean()\n",
    "\n",
    "print(f\"Average price for a 3-bedroom apartment for families (cleaned): {avg_price_three_bedroom_families_cleaned:.2f} SAR\")\n",
    "print(f\"Average price for a 3-bedroom apartment for singles (cleaned): {avg_price_three_bedroom_singles_cleaned:.2f} SAR\")\n"
   ]
  },
  {
   "cell_type": "code",
   "execution_count": 171,
   "id": "27038bb3",
   "metadata": {},
   "outputs": [],
   "source": [
    "# Recalculate the average prices without outliers\n",
    "rate_increase_families = ((avg_price_three_bedroom_families_cleaned - avg_price_two_bedroom_families) / avg_price_two_bedroom_families) * 100\n",
    "rate_increase_singles = ((avg_price_three_bedroom_singles_cleaned - avg_price_two_bedroom_singles) / avg_price_two_bedroom_singles) * 100\n"
   ]
  },
  {
   "cell_type": "code",
   "execution_count": 172,
   "id": "a0032dd0",
   "metadata": {},
   "outputs": [
    {
     "data": {
      "text/plain": [
       "(2384.36279296875, -55.102646350860596)"
      ]
     },
     "execution_count": 172,
     "metadata": {},
     "output_type": "execute_result"
    }
   ],
   "source": [
    "rate_increase_families, rate_increase_singles"
   ]
  },
  {
   "cell_type": "markdown",
   "id": "a6e87388",
   "metadata": {},
   "source": [
    "These rates suggest a substantial increase in rent prices for families \n",
    "when moving from a 2-bedroom to a 3-bedroom apartment, while indicating a decrease for singles.\n",
    "However, the negative rate for singles seems counterintuitive since \n",
    "it implies that moving to a larger apartment would, on average, cost less,\n",
    "which is generally not expected in real estate markets.\n",
    "\n"
   ]
  },
  {
   "cell_type": "markdown",
   "id": "93915f6d",
   "metadata": {},
   "source": [
    "## ================================================================================================================================================="
   ]
  },
  {
   "cell_type": "markdown",
   "id": "4a8aa183",
   "metadata": {},
   "source": [
    "## 2.Calculate the average duration it takes to close a post and mention the parameters that affect this duration. Also, mention the district with the shortest duration it takes to close a post with property type of villa."
   ]
  },
  {
   "cell_type": "markdown",
   "id": "0313f9e3",
   "metadata": {},
   "source": [
    "### ================================================================================================================================================="
   ]
  },
  {
   "cell_type": "markdown",
   "id": "dc7ae750",
   "metadata": {},
   "source": [
    "I will consider the difference between updated and created date without checking is_closed it the duration to close the post "
   ]
  },
  {
   "cell_type": "markdown",
   "id": "0af5b7b5",
   "metadata": {},
   "source": [
    "##### Step 1: Calculate Duration to Close a Post\n"
   ]
  },
  {
   "cell_type": "code",
   "execution_count": 115,
   "id": "39229752",
   "metadata": {},
   "outputs": [],
   "source": [
    "ad_table['created_at'] = pd.to_datetime(ad_table['created_at'])\n",
    "ad_table['updated_at'] = pd.to_datetime(ad_table['updated_at'])\n",
    "ad_table['closing_duration'] = (ad_table['updated_at'] - ad_table['created_at']).dt.days"
   ]
  },
  {
   "cell_type": "markdown",
   "id": "1a100cc5",
   "metadata": {},
   "source": [
    "##### Step 2: Identify Parameters Affecting Duration"
   ]
  },
  {
   "cell_type": "code",
   "execution_count": 114,
   "id": "fe6375a1",
   "metadata": {},
   "outputs": [
    {
     "data": {
      "text/plain": [
       "Index(['id', 'district_id', 'property_type_id', 'district_name_en',\n",
       "       'property_type', 'property_age_less_than', 'number_of_apartments',\n",
       "       'number_of_bedrooms', 'floor', 'number_of_kitchens', 'is_closed',\n",
       "       'residential_or_commercial', 'driver_room', 'is_duplex',\n",
       "       'families_or_singles', 'is_furnished', 'halls_Num', 'maid_room',\n",
       "       'price_per_meter', 'advertiser_type', 'has_swimming_pool', 'is_paid',\n",
       "       'price', 'purpose', 'rent_type', 'rooms_num', 'space',\n",
       "       'street_direction', 'street_width_range', 'toilets_num', 'latitude',\n",
       "       'longitude', 'property_age_range', 'created_at', 'updated_at',\n",
       "       'data_source', 'closing_duration'],\n",
       "      dtype='object')"
      ]
     },
     "execution_count": 114,
     "metadata": {},
     "output_type": "execute_result"
    }
   ],
   "source": [
    "ad_table.columns"
   ]
  },
  {
   "cell_type": "code",
   "execution_count": 127,
   "id": "d98dd9c2",
   "metadata": {},
   "outputs": [
    {
     "data": {
      "text/html": [
       "<div>\n",
       "<style scoped>\n",
       "    .dataframe tbody tr th:only-of-type {\n",
       "        vertical-align: middle;\n",
       "    }\n",
       "\n",
       "    .dataframe tbody tr th {\n",
       "        vertical-align: top;\n",
       "    }\n",
       "\n",
       "    .dataframe thead th {\n",
       "        text-align: right;\n",
       "    }\n",
       "</style>\n",
       "<table border=\"1\" class=\"dataframe\">\n",
       "  <thead>\n",
       "    <tr style=\"text-align: right;\">\n",
       "      <th></th>\n",
       "      <th>closing_duration</th>\n",
       "      <th>price</th>\n",
       "      <th>number_of_bedrooms</th>\n",
       "      <th>is_furnished</th>\n",
       "      <th>has_swimming_pool</th>\n",
       "      <th>maid_room</th>\n",
       "      <th>driver_room</th>\n",
       "    </tr>\n",
       "  </thead>\n",
       "  <tbody>\n",
       "    <tr>\n",
       "      <th>closing_duration</th>\n",
       "      <td>1.000000</td>\n",
       "      <td>-0.004561</td>\n",
       "      <td>-0.049748</td>\n",
       "      <td>-0.013467</td>\n",
       "      <td>0.046696</td>\n",
       "      <td>0.062801</td>\n",
       "      <td>0.068518</td>\n",
       "    </tr>\n",
       "    <tr>\n",
       "      <th>price</th>\n",
       "      <td>-0.004561</td>\n",
       "      <td>1.000000</td>\n",
       "      <td>-0.004130</td>\n",
       "      <td>0.007733</td>\n",
       "      <td>-0.000483</td>\n",
       "      <td>-0.004159</td>\n",
       "      <td>-0.003818</td>\n",
       "    </tr>\n",
       "    <tr>\n",
       "      <th>number_of_bedrooms</th>\n",
       "      <td>-0.049748</td>\n",
       "      <td>-0.004130</td>\n",
       "      <td>1.000000</td>\n",
       "      <td>0.099894</td>\n",
       "      <td>0.221229</td>\n",
       "      <td>0.534709</td>\n",
       "      <td>0.490236</td>\n",
       "    </tr>\n",
       "    <tr>\n",
       "      <th>is_furnished</th>\n",
       "      <td>-0.013467</td>\n",
       "      <td>0.007733</td>\n",
       "      <td>0.099894</td>\n",
       "      <td>1.000000</td>\n",
       "      <td>0.117984</td>\n",
       "      <td>0.114554</td>\n",
       "      <td>0.097253</td>\n",
       "    </tr>\n",
       "    <tr>\n",
       "      <th>has_swimming_pool</th>\n",
       "      <td>0.046696</td>\n",
       "      <td>-0.000483</td>\n",
       "      <td>0.221229</td>\n",
       "      <td>0.117984</td>\n",
       "      <td>1.000000</td>\n",
       "      <td>0.334912</td>\n",
       "      <td>0.352679</td>\n",
       "    </tr>\n",
       "    <tr>\n",
       "      <th>maid_room</th>\n",
       "      <td>0.062801</td>\n",
       "      <td>-0.004159</td>\n",
       "      <td>0.534709</td>\n",
       "      <td>0.114554</td>\n",
       "      <td>0.334912</td>\n",
       "      <td>1.000000</td>\n",
       "      <td>0.788474</td>\n",
       "    </tr>\n",
       "    <tr>\n",
       "      <th>driver_room</th>\n",
       "      <td>0.068518</td>\n",
       "      <td>-0.003818</td>\n",
       "      <td>0.490236</td>\n",
       "      <td>0.097253</td>\n",
       "      <td>0.352679</td>\n",
       "      <td>0.788474</td>\n",
       "      <td>1.000000</td>\n",
       "    </tr>\n",
       "  </tbody>\n",
       "</table>\n",
       "</div>"
      ],
      "text/plain": [
       "                    closing_duration     price  number_of_bedrooms  \\\n",
       "closing_duration            1.000000 -0.004561           -0.049748   \n",
       "price                      -0.004561  1.000000           -0.004130   \n",
       "number_of_bedrooms         -0.049748 -0.004130            1.000000   \n",
       "is_furnished               -0.013467  0.007733            0.099894   \n",
       "has_swimming_pool           0.046696 -0.000483            0.221229   \n",
       "maid_room                   0.062801 -0.004159            0.534709   \n",
       "driver_room                 0.068518 -0.003818            0.490236   \n",
       "\n",
       "                    is_furnished  has_swimming_pool  maid_room  driver_room  \n",
       "closing_duration       -0.013467           0.046696   0.062801     0.068518  \n",
       "price                   0.007733          -0.000483  -0.004159    -0.003818  \n",
       "number_of_bedrooms      0.099894           0.221229   0.534709     0.490236  \n",
       "is_furnished            1.000000           0.117984   0.114554     0.097253  \n",
       "has_swimming_pool       0.117984           1.000000   0.334912     0.352679  \n",
       "maid_room               0.114554           0.334912   1.000000     0.788474  \n",
       "driver_room             0.097253           0.352679   0.788474     1.000000  "
      ]
     },
     "execution_count": 127,
     "metadata": {},
     "output_type": "execute_result"
    }
   ],
   "source": [
    "# This step involves statistical analysis. As a simple approach, you can start by examining correlations:\n",
    "correlations = ad_table[['closing_duration','price', 'number_of_bedrooms', 'is_furnished', 'has_swimming_pool', 'maid_room','driver_room']].corr()\n",
    "correlations"
   ]
  },
  {
   "cell_type": "markdown",
   "id": "383ae38f",
   "metadata": {},
   "source": [
    "##### Step 3: Find the District with the Shortest Duration for Villas"
   ]
  },
  {
   "cell_type": "markdown",
   "id": "76f93766",
   "metadata": {},
   "source": [
    "###### Step 3.a identify villas from property_type_table"
   ]
  },
  {
   "cell_type": "code",
   "execution_count": 128,
   "id": "c8025632",
   "metadata": {},
   "outputs": [],
   "source": [
    "#property_type_table[\"property_type\"].unique"
   ]
  },
  {
   "cell_type": "code",
   "execution_count": 129,
   "id": "620b1fd0",
   "metadata": {},
   "outputs": [],
   "source": [
    "villa_type_ids = property_type_table[(property_type_table['property_type'].str.lower() == 'villa')|(property_type_table['property_type'].str.lower() == 'فيلا')]['property_type_id']"
   ]
  },
  {
   "cell_type": "markdown",
   "id": "aec1e573",
   "metadata": {},
   "source": [
    "###### Step 3.b Group by district_id and calculate average closing_duration"
   ]
  },
  {
   "cell_type": "code",
   "execution_count": 130,
   "id": "13b248c1",
   "metadata": {},
   "outputs": [],
   "source": [
    "villa_ads = ad_table[ad_table['property_type_id'].isin(villa_type_ids)]\n",
    "avg_duration_by_district = villa_ads.groupby('district_id')['closing_duration'].mean().reset_index()"
   ]
  },
  {
   "cell_type": "markdown",
   "id": "656c9242",
   "metadata": {},
   "source": [
    "###### Step 3.c Find the district with the shortest duration"
   ]
  },
  {
   "cell_type": "code",
   "execution_count": 131,
   "id": "c3ab8b80",
   "metadata": {},
   "outputs": [],
   "source": [
    "shortest_duration_district = avg_duration_by_district.loc[avg_duration_by_district['closing_duration'].idxmin()]"
   ]
  },
  {
   "cell_type": "markdown",
   "id": "b111afd5",
   "metadata": {},
   "source": [
    "###### Step 3.e Get district details"
   ]
  },
  {
   "cell_type": "code",
   "execution_count": 132,
   "id": "e2295060",
   "metadata": {},
   "outputs": [],
   "source": [
    "district_details = district_table[district_table['district_id'] == shortest_duration_district['district_id']]"
   ]
  },
  {
   "cell_type": "markdown",
   "id": "e4ad1695",
   "metadata": {},
   "source": [
    "###### Output"
   ]
  },
  {
   "cell_type": "code",
   "execution_count": 133,
   "id": "24ac6bcf",
   "metadata": {},
   "outputs": [
    {
     "name": "stdout",
     "output_type": "stream",
     "text": [
      "Average closing duration: 50.11803646396776 days\n",
      "Correlation with other parameters:\n",
      "                     closing_duration     price  number_of_bedrooms  \\\n",
      "closing_duration            1.000000 -0.004561           -0.049748   \n",
      "price                      -0.004561  1.000000           -0.004130   \n",
      "number_of_bedrooms         -0.049748 -0.004130            1.000000   \n",
      "is_furnished               -0.013467  0.007733            0.099894   \n",
      "has_swimming_pool           0.046696 -0.000483            0.221229   \n",
      "maid_room                   0.062801 -0.004159            0.534709   \n",
      "driver_room                 0.068518 -0.003818            0.490236   \n",
      "\n",
      "                    is_furnished  has_swimming_pool  maid_room  driver_room  \n",
      "closing_duration       -0.013467           0.046696   0.062801     0.068518  \n",
      "price                   0.007733          -0.000483  -0.004159    -0.003818  \n",
      "number_of_bedrooms      0.099894           0.221229   0.534709     0.490236  \n",
      "is_furnished            1.000000           0.117984   0.114554     0.097253  \n",
      "has_swimming_pool       0.117984           1.000000   0.334912     0.352679  \n",
      "maid_room               0.114554           0.334912   1.000000     0.788474  \n",
      "driver_room             0.097253           0.352679   0.788474     1.000000  \n",
      "District with shortest closing duration for villas: Siyah (ID: 159844990f032677bdc2c66b26191c62ebb6ffab80747a56e7e63702c4352d29)\n"
     ]
    }
   ],
   "source": [
    "average_duration = ad_table['closing_duration'].mean()\n",
    "print(f\"Average closing duration: {average_duration} days\")\n",
    "print(\"Correlation with other parameters:\\n\", correlations)\n",
    "print(f\"District with shortest closing duration for villas: {district_details.iloc[0]['district_name_en']} (ID: {shortest_duration_district['district_id']})\")\n"
   ]
  },
  {
   "cell_type": "markdown",
   "id": "4cae835f",
   "metadata": {},
   "source": [
    "### ================================================================================================================================================="
   ]
  },
  {
   "cell_type": "markdown",
   "id": "0a341fd1",
   "metadata": {},
   "source": [
    "## 3.Provide the correlation matrix for the effects on prices after normalization for both rents and sales, and comment on the most price affecting parameters."
   ]
  },
  {
   "cell_type": "markdown",
   "id": "69f50484",
   "metadata": {},
   "source": [
    "### ================================================================================================================================================="
   ]
  },
  {
   "cell_type": "code",
   "execution_count": 134,
   "id": "6fa48440",
   "metadata": {},
   "outputs": [
    {
     "data": {
      "text/plain": [
       "Index(['id', 'district_id', 'property_type_id', 'district_name_en',\n",
       "       'property_type', 'property_age_less_than', 'number_of_apartments',\n",
       "       'number_of_bedrooms', 'floor', 'number_of_kitchens', 'is_closed',\n",
       "       'residential_or_commercial', 'driver_room', 'is_duplex',\n",
       "       'families_or_singles', 'is_furnished', 'halls_Num', 'maid_room',\n",
       "       'price_per_meter', 'advertiser_type', 'has_swimming_pool', 'is_paid',\n",
       "       'price', 'purpose', 'rent_type', 'rooms_num', 'space',\n",
       "       'street_direction', 'street_width_range', 'toilets_num', 'latitude',\n",
       "       'longitude', 'property_age_range', 'created_at', 'updated_at',\n",
       "       'data_source', 'closing_duration'],\n",
       "      dtype='object')"
      ]
     },
     "execution_count": 134,
     "metadata": {},
     "output_type": "execute_result"
    }
   ],
   "source": [
    "ad_table.columns"
   ]
  },
  {
   "cell_type": "code",
   "execution_count": 136,
   "id": "6d3af7cd",
   "metadata": {},
   "outputs": [
    {
     "name": "stdout",
     "output_type": "stream",
     "text": [
      "                    number_of_bedrooms     space  normalized_price  \\\n",
      "number_of_bedrooms            1.000000 -0.011265         -0.004130   \n",
      "space                        -0.011265  1.000000          0.207093   \n",
      "normalized_price             -0.004130  0.207093          1.000000   \n",
      "has_swimming_pool             0.221229  0.012604         -0.000483   \n",
      "maid_room                     0.534709 -0.003503         -0.004159   \n",
      "driver_room                   0.490236 -0.002513         -0.003818   \n",
      "\n",
      "                    has_swimming_pool  maid_room  driver_room  \n",
      "number_of_bedrooms           0.221229   0.534709     0.490236  \n",
      "space                        0.012604  -0.003503    -0.002513  \n",
      "normalized_price            -0.000483  -0.004159    -0.003818  \n",
      "has_swimming_pool            1.000000   0.334912     0.352679  \n",
      "maid_room                    0.334912   1.000000     0.788474  \n",
      "driver_room                  0.352679   0.788474     1.000000  \n"
     ]
    }
   ],
   "source": [
    "# Assuming 'ad_table' contains your data, including both rent and sale prices in a 'price' column\n",
    "# and a 'for_sale_or_rent' column to differentiate between sale (e.g., value 0) and rent (e.g., value 1)\n",
    "\n",
    "# Step 1: Normalize the price data\n",
    "scaler = MinMaxScaler()\n",
    "ad_table['normalized_price'] = scaler.fit_transform(ad_table[['price']])\n",
    "\n",
    "# Step 2: Select relevant parameters (assuming these columns exist in your dataframe)\n",
    "parameters = ['number_of_bedrooms', 'space', 'toilets_num', 'property_age_range', 'normalized_price','has_swimming_pool','maid_room','driver_room']\n",
    "\n",
    "# Step 3: Calculate the correlation matrix\n",
    "correlation_matrix = ad_table[parameters].corr()\n",
    "\n",
    "# Display the correlation matrix\n",
    "print(correlation_matrix)"
   ]
  },
  {
   "cell_type": "markdown",
   "id": "63d973be",
   "metadata": {},
   "source": [
    "### ================================================================================================================================================="
   ]
  },
  {
   "cell_type": "markdown",
   "id": "f58feecd",
   "metadata": {},
   "source": [
    "## 4.Give a sales price valuation of rental properties (convert rental properties to sales properties) based on 6% ROI (Return on Investment) then estimate the meter price distribution per property type and district and comment on the result."
   ]
  },
  {
   "cell_type": "markdown",
   "id": "46530183",
   "metadata": {},
   "source": [
    "### ================================================================================================================================================="
   ]
  },
  {
   "cell_type": "markdown",
   "id": "1f96d693",
   "metadata": {},
   "source": [
    "RENT_TYPE :->\n",
    "Yearly = 0, \n",
    "Daily = 1,\n",
    "Monthly = 2\n",
    "\n",
    "PURPOSE :->\n",
    "SALE = 0\n",
    "RENT = 1"
   ]
  },
  {
   "cell_type": "markdown",
   "id": "55d5f1e1",
   "metadata": {},
   "source": [
    "###### 1. Filter for rental properties (purpose = 1 for rent)"
   ]
  },
  {
   "cell_type": "code",
   "execution_count": 138,
   "id": "5687c133",
   "metadata": {},
   "outputs": [],
   "source": [
    "rentals = ad_table[ad_table['purpose'] == 1]"
   ]
  },
  {
   "cell_type": "markdown",
   "id": "c94d014a",
   "metadata": {},
   "source": [
    "###### 2. Convert rental price to annual basis\n",
    "Daily to yearly: Multiply by 365\n",
    "Monthly to yearly: Multiply by 12\n",
    "Yearly remains the same"
   ]
  },
  {
   "cell_type": "code",
   "execution_count": 139,
   "id": "fd3584e4",
   "metadata": {},
   "outputs": [
    {
     "name": "stderr",
     "output_type": "stream",
     "text": [
      "/var/folders/fw/2jnclknn08g378bkr2zksm5h0000gn/T/ipykernel_10323/3254155969.py:1: SettingWithCopyWarning: \n",
      "A value is trying to be set on a copy of a slice from a DataFrame.\n",
      "Try using .loc[row_indexer,col_indexer] = value instead\n",
      "\n",
      "See the caveats in the documentation: https://pandas.pydata.org/pandas-docs/stable/user_guide/indexing.html#returning-a-view-versus-a-copy\n",
      "  rentals['annual_rent'] = rentals.apply(\n"
     ]
    }
   ],
   "source": [
    "rentals['annual_rent'] = rentals.apply(\n",
    "    lambda x: x['price'] * 365 if x['rent_type'] == 1 else (x['price'] * 12 if x['rent_type'] == 2 else x['price']),\n",
    "    axis=1\n",
    ")"
   ]
  },
  {
   "cell_type": "markdown",
   "id": "f3b9bde2",
   "metadata": {},
   "source": [
    "###### 3. Calculate sales price valuation based on 6% ROI"
   ]
  },
  {
   "cell_type": "code",
   "execution_count": 140,
   "id": "d00413ae",
   "metadata": {},
   "outputs": [
    {
     "name": "stderr",
     "output_type": "stream",
     "text": [
      "/var/folders/fw/2jnclknn08g378bkr2zksm5h0000gn/T/ipykernel_10323/2013283491.py:1: SettingWithCopyWarning: \n",
      "A value is trying to be set on a copy of a slice from a DataFrame.\n",
      "Try using .loc[row_indexer,col_indexer] = value instead\n",
      "\n",
      "See the caveats in the documentation: https://pandas.pydata.org/pandas-docs/stable/user_guide/indexing.html#returning-a-view-versus-a-copy\n",
      "  rentals['sales_price_valuation'] = rentals['annual_rent'] / 0.06\n"
     ]
    }
   ],
   "source": [
    "rentals['sales_price_valuation'] = rentals['annual_rent'] / 0.06"
   ]
  },
  {
   "cell_type": "markdown",
   "id": "8f075ff3",
   "metadata": {},
   "source": [
    "###### 4. Calculate price per meter"
   ]
  },
  {
   "cell_type": "code",
   "execution_count": 141,
   "id": "ed9e8041",
   "metadata": {},
   "outputs": [
    {
     "name": "stderr",
     "output_type": "stream",
     "text": [
      "/var/folders/fw/2jnclknn08g378bkr2zksm5h0000gn/T/ipykernel_10323/2672916109.py:1: SettingWithCopyWarning: \n",
      "A value is trying to be set on a copy of a slice from a DataFrame.\n",
      "Try using .loc[row_indexer,col_indexer] = value instead\n",
      "\n",
      "See the caveats in the documentation: https://pandas.pydata.org/pandas-docs/stable/user_guide/indexing.html#returning-a-view-versus-a-copy\n",
      "  rentals['price_per_meter'] = rentals['sales_price_valuation'] / rentals['space']\n"
     ]
    }
   ],
   "source": [
    "rentals['price_per_meter'] = rentals['sales_price_valuation'] / rentals['space']\n"
   ]
  },
  {
   "cell_type": "markdown",
   "id": "15d4508c",
   "metadata": {},
   "source": [
    "###### 5. Group by property type and district, and calculate descriptive statistics for price per meter"
   ]
  },
  {
   "cell_type": "code",
   "execution_count": 142,
   "id": "141e60e3",
   "metadata": {},
   "outputs": [
    {
     "name": "stderr",
     "output_type": "stream",
     "text": [
      "/Users/mohammadshbaita/miniforge3/lib/python3.9/site-packages/numpy/lib/function_base.py:4011: RuntimeWarning: invalid value encountered in multiply\n",
      "  lerp_interpolation = asanyarray(add(a, diff_b_a*t, out=out))\n",
      "/Users/mohammadshbaita/miniforge3/lib/python3.9/site-packages/numpy/lib/function_base.py:4012: RuntimeWarning: invalid value encountered in subtract\n",
      "  subtract(b, diff_b_a * (1 - t), out=lerp_interpolation, where=t>=0.5)\n",
      "/Users/mohammadshbaita/miniforge3/lib/python3.9/site-packages/numpy/lib/function_base.py:4012: RuntimeWarning: invalid value encountered in subtract\n",
      "  subtract(b, diff_b_a * (1 - t), out=lerp_interpolation, where=t>=0.5)\n",
      "/Users/mohammadshbaita/miniforge3/lib/python3.9/site-packages/numpy/lib/function_base.py:4011: RuntimeWarning: invalid value encountered in multiply\n",
      "  lerp_interpolation = asanyarray(add(a, diff_b_a*t, out=out))\n",
      "/Users/mohammadshbaita/miniforge3/lib/python3.9/site-packages/numpy/lib/function_base.py:4012: RuntimeWarning: invalid value encountered in subtract\n",
      "  subtract(b, diff_b_a * (1 - t), out=lerp_interpolation, where=t>=0.5)\n",
      "/Users/mohammadshbaita/miniforge3/lib/python3.9/site-packages/numpy/lib/function_base.py:4009: RuntimeWarning: invalid value encountered in subtract\n",
      "  diff_b_a = subtract(b, a)\n",
      "/Users/mohammadshbaita/miniforge3/lib/python3.9/site-packages/numpy/lib/function_base.py:4009: RuntimeWarning: invalid value encountered in subtract\n",
      "  diff_b_a = subtract(b, a)\n",
      "/Users/mohammadshbaita/miniforge3/lib/python3.9/site-packages/numpy/lib/function_base.py:4009: RuntimeWarning: invalid value encountered in subtract\n",
      "  diff_b_a = subtract(b, a)\n",
      "/Users/mohammadshbaita/miniforge3/lib/python3.9/site-packages/numpy/lib/function_base.py:4012: RuntimeWarning: invalid value encountered in subtract\n",
      "  subtract(b, diff_b_a * (1 - t), out=lerp_interpolation, where=t>=0.5)\n",
      "/Users/mohammadshbaita/miniforge3/lib/python3.9/site-packages/numpy/lib/function_base.py:4009: RuntimeWarning: invalid value encountered in subtract\n",
      "  diff_b_a = subtract(b, a)\n",
      "/Users/mohammadshbaita/miniforge3/lib/python3.9/site-packages/numpy/lib/function_base.py:4009: RuntimeWarning: invalid value encountered in subtract\n",
      "  diff_b_a = subtract(b, a)\n",
      "/Users/mohammadshbaita/miniforge3/lib/python3.9/site-packages/numpy/lib/function_base.py:4009: RuntimeWarning: invalid value encountered in subtract\n",
      "  diff_b_a = subtract(b, a)\n",
      "/Users/mohammadshbaita/miniforge3/lib/python3.9/site-packages/numpy/lib/function_base.py:4009: RuntimeWarning: invalid value encountered in subtract\n",
      "  diff_b_a = subtract(b, a)\n",
      "/Users/mohammadshbaita/miniforge3/lib/python3.9/site-packages/numpy/lib/function_base.py:4009: RuntimeWarning: invalid value encountered in subtract\n",
      "  diff_b_a = subtract(b, a)\n",
      "/Users/mohammadshbaita/miniforge3/lib/python3.9/site-packages/numpy/lib/function_base.py:4009: RuntimeWarning: invalid value encountered in subtract\n",
      "  diff_b_a = subtract(b, a)\n",
      "/Users/mohammadshbaita/miniforge3/lib/python3.9/site-packages/numpy/lib/function_base.py:4009: RuntimeWarning: invalid value encountered in subtract\n",
      "  diff_b_a = subtract(b, a)\n",
      "/Users/mohammadshbaita/miniforge3/lib/python3.9/site-packages/numpy/lib/function_base.py:4009: RuntimeWarning: invalid value encountered in subtract\n",
      "  diff_b_a = subtract(b, a)\n",
      "/Users/mohammadshbaita/miniforge3/lib/python3.9/site-packages/numpy/lib/function_base.py:4009: RuntimeWarning: invalid value encountered in subtract\n",
      "  diff_b_a = subtract(b, a)\n",
      "/Users/mohammadshbaita/miniforge3/lib/python3.9/site-packages/numpy/lib/function_base.py:4009: RuntimeWarning: invalid value encountered in subtract\n",
      "  diff_b_a = subtract(b, a)\n",
      "/Users/mohammadshbaita/miniforge3/lib/python3.9/site-packages/numpy/lib/function_base.py:4009: RuntimeWarning: invalid value encountered in subtract\n",
      "  diff_b_a = subtract(b, a)\n",
      "/Users/mohammadshbaita/miniforge3/lib/python3.9/site-packages/numpy/lib/function_base.py:4009: RuntimeWarning: invalid value encountered in subtract\n",
      "  diff_b_a = subtract(b, a)\n",
      "/Users/mohammadshbaita/miniforge3/lib/python3.9/site-packages/numpy/lib/function_base.py:4009: RuntimeWarning: invalid value encountered in subtract\n",
      "  diff_b_a = subtract(b, a)\n",
      "/Users/mohammadshbaita/miniforge3/lib/python3.9/site-packages/numpy/lib/function_base.py:4009: RuntimeWarning: invalid value encountered in subtract\n",
      "  diff_b_a = subtract(b, a)\n",
      "/Users/mohammadshbaita/miniforge3/lib/python3.9/site-packages/numpy/lib/function_base.py:4009: RuntimeWarning: invalid value encountered in subtract\n",
      "  diff_b_a = subtract(b, a)\n",
      "/Users/mohammadshbaita/miniforge3/lib/python3.9/site-packages/numpy/lib/function_base.py:4009: RuntimeWarning: invalid value encountered in subtract\n",
      "  diff_b_a = subtract(b, a)\n",
      "/Users/mohammadshbaita/miniforge3/lib/python3.9/site-packages/numpy/lib/function_base.py:4009: RuntimeWarning: invalid value encountered in subtract\n",
      "  diff_b_a = subtract(b, a)\n",
      "/Users/mohammadshbaita/miniforge3/lib/python3.9/site-packages/numpy/lib/function_base.py:4009: RuntimeWarning: invalid value encountered in subtract\n",
      "  diff_b_a = subtract(b, a)\n",
      "/Users/mohammadshbaita/miniforge3/lib/python3.9/site-packages/numpy/lib/function_base.py:4009: RuntimeWarning: invalid value encountered in subtract\n",
      "  diff_b_a = subtract(b, a)\n",
      "/Users/mohammadshbaita/miniforge3/lib/python3.9/site-packages/numpy/lib/function_base.py:4012: RuntimeWarning: invalid value encountered in subtract\n",
      "  subtract(b, diff_b_a * (1 - t), out=lerp_interpolation, where=t>=0.5)\n",
      "/Users/mohammadshbaita/miniforge3/lib/python3.9/site-packages/numpy/lib/function_base.py:4009: RuntimeWarning: invalid value encountered in subtract\n",
      "  diff_b_a = subtract(b, a)\n",
      "/Users/mohammadshbaita/miniforge3/lib/python3.9/site-packages/numpy/lib/function_base.py:4009: RuntimeWarning: invalid value encountered in subtract\n",
      "  diff_b_a = subtract(b, a)\n",
      "/Users/mohammadshbaita/miniforge3/lib/python3.9/site-packages/numpy/lib/function_base.py:4009: RuntimeWarning: invalid value encountered in subtract\n",
      "  diff_b_a = subtract(b, a)\n",
      "/Users/mohammadshbaita/miniforge3/lib/python3.9/site-packages/numpy/lib/function_base.py:4009: RuntimeWarning: invalid value encountered in subtract\n",
      "  diff_b_a = subtract(b, a)\n",
      "/Users/mohammadshbaita/miniforge3/lib/python3.9/site-packages/numpy/lib/function_base.py:4009: RuntimeWarning: invalid value encountered in subtract\n",
      "  diff_b_a = subtract(b, a)\n",
      "/Users/mohammadshbaita/miniforge3/lib/python3.9/site-packages/numpy/lib/function_base.py:4009: RuntimeWarning: invalid value encountered in subtract\n",
      "  diff_b_a = subtract(b, a)\n",
      "/Users/mohammadshbaita/miniforge3/lib/python3.9/site-packages/numpy/lib/function_base.py:4009: RuntimeWarning: invalid value encountered in subtract\n",
      "  diff_b_a = subtract(b, a)\n",
      "/Users/mohammadshbaita/miniforge3/lib/python3.9/site-packages/numpy/lib/function_base.py:4009: RuntimeWarning: invalid value encountered in subtract\n",
      "  diff_b_a = subtract(b, a)\n",
      "/Users/mohammadshbaita/miniforge3/lib/python3.9/site-packages/numpy/lib/function_base.py:4009: RuntimeWarning: invalid value encountered in subtract\n",
      "  diff_b_a = subtract(b, a)\n",
      "/Users/mohammadshbaita/miniforge3/lib/python3.9/site-packages/numpy/lib/function_base.py:4009: RuntimeWarning: invalid value encountered in subtract\n",
      "  diff_b_a = subtract(b, a)\n",
      "/Users/mohammadshbaita/miniforge3/lib/python3.9/site-packages/numpy/lib/function_base.py:4009: RuntimeWarning: invalid value encountered in subtract\n",
      "  diff_b_a = subtract(b, a)\n",
      "/Users/mohammadshbaita/miniforge3/lib/python3.9/site-packages/numpy/lib/function_base.py:4009: RuntimeWarning: invalid value encountered in subtract\n",
      "  diff_b_a = subtract(b, a)\n",
      "/Users/mohammadshbaita/miniforge3/lib/python3.9/site-packages/numpy/lib/function_base.py:4009: RuntimeWarning: invalid value encountered in subtract\n",
      "  diff_b_a = subtract(b, a)\n",
      "/Users/mohammadshbaita/miniforge3/lib/python3.9/site-packages/numpy/lib/function_base.py:4009: RuntimeWarning: invalid value encountered in subtract\n",
      "  diff_b_a = subtract(b, a)\n",
      "/Users/mohammadshbaita/miniforge3/lib/python3.9/site-packages/numpy/lib/function_base.py:4009: RuntimeWarning: invalid value encountered in subtract\n",
      "  diff_b_a = subtract(b, a)\n",
      "/Users/mohammadshbaita/miniforge3/lib/python3.9/site-packages/numpy/lib/function_base.py:4009: RuntimeWarning: invalid value encountered in subtract\n",
      "  diff_b_a = subtract(b, a)\n",
      "/Users/mohammadshbaita/miniforge3/lib/python3.9/site-packages/numpy/lib/function_base.py:4009: RuntimeWarning: invalid value encountered in subtract\n",
      "  diff_b_a = subtract(b, a)\n",
      "/Users/mohammadshbaita/miniforge3/lib/python3.9/site-packages/numpy/lib/function_base.py:4009: RuntimeWarning: invalid value encountered in subtract\n",
      "  diff_b_a = subtract(b, a)\n",
      "/Users/mohammadshbaita/miniforge3/lib/python3.9/site-packages/numpy/lib/function_base.py:4009: RuntimeWarning: invalid value encountered in subtract\n",
      "  diff_b_a = subtract(b, a)\n",
      "/Users/mohammadshbaita/miniforge3/lib/python3.9/site-packages/numpy/lib/function_base.py:4009: RuntimeWarning: invalid value encountered in subtract\n",
      "  diff_b_a = subtract(b, a)\n",
      "/Users/mohammadshbaita/miniforge3/lib/python3.9/site-packages/numpy/lib/function_base.py:4009: RuntimeWarning: invalid value encountered in subtract\n",
      "  diff_b_a = subtract(b, a)\n",
      "/Users/mohammadshbaita/miniforge3/lib/python3.9/site-packages/numpy/lib/function_base.py:4009: RuntimeWarning: invalid value encountered in subtract\n",
      "  diff_b_a = subtract(b, a)\n",
      "/Users/mohammadshbaita/miniforge3/lib/python3.9/site-packages/numpy/lib/function_base.py:4009: RuntimeWarning: invalid value encountered in subtract\n",
      "  diff_b_a = subtract(b, a)\n",
      "/Users/mohammadshbaita/miniforge3/lib/python3.9/site-packages/numpy/lib/function_base.py:4009: RuntimeWarning: invalid value encountered in subtract\n",
      "  diff_b_a = subtract(b, a)\n",
      "/Users/mohammadshbaita/miniforge3/lib/python3.9/site-packages/numpy/lib/function_base.py:4009: RuntimeWarning: invalid value encountered in subtract\n",
      "  diff_b_a = subtract(b, a)\n",
      "/Users/mohammadshbaita/miniforge3/lib/python3.9/site-packages/numpy/lib/function_base.py:4009: RuntimeWarning: invalid value encountered in subtract\n",
      "  diff_b_a = subtract(b, a)\n",
      "/Users/mohammadshbaita/miniforge3/lib/python3.9/site-packages/numpy/lib/function_base.py:4011: RuntimeWarning: invalid value encountered in multiply\n",
      "  lerp_interpolation = asanyarray(add(a, diff_b_a*t, out=out))\n",
      "/Users/mohammadshbaita/miniforge3/lib/python3.9/site-packages/numpy/lib/function_base.py:4012: RuntimeWarning: invalid value encountered in subtract\n",
      "  subtract(b, diff_b_a * (1 - t), out=lerp_interpolation, where=t>=0.5)\n",
      "/Users/mohammadshbaita/miniforge3/lib/python3.9/site-packages/numpy/lib/function_base.py:4009: RuntimeWarning: invalid value encountered in subtract\n",
      "  diff_b_a = subtract(b, a)\n",
      "/Users/mohammadshbaita/miniforge3/lib/python3.9/site-packages/numpy/lib/function_base.py:4009: RuntimeWarning: invalid value encountered in subtract\n",
      "  diff_b_a = subtract(b, a)\n",
      "/Users/mohammadshbaita/miniforge3/lib/python3.9/site-packages/numpy/lib/function_base.py:4009: RuntimeWarning: invalid value encountered in subtract\n",
      "  diff_b_a = subtract(b, a)\n",
      "/Users/mohammadshbaita/miniforge3/lib/python3.9/site-packages/numpy/lib/function_base.py:4009: RuntimeWarning: invalid value encountered in subtract\n",
      "  diff_b_a = subtract(b, a)\n",
      "/Users/mohammadshbaita/miniforge3/lib/python3.9/site-packages/numpy/lib/function_base.py:4009: RuntimeWarning: invalid value encountered in subtract\n",
      "  diff_b_a = subtract(b, a)\n",
      "/Users/mohammadshbaita/miniforge3/lib/python3.9/site-packages/numpy/lib/function_base.py:4009: RuntimeWarning: invalid value encountered in subtract\n",
      "  diff_b_a = subtract(b, a)\n",
      "/Users/mohammadshbaita/miniforge3/lib/python3.9/site-packages/numpy/lib/function_base.py:4009: RuntimeWarning: invalid value encountered in subtract\n",
      "  diff_b_a = subtract(b, a)\n",
      "/Users/mohammadshbaita/miniforge3/lib/python3.9/site-packages/numpy/lib/function_base.py:4009: RuntimeWarning: invalid value encountered in subtract\n",
      "  diff_b_a = subtract(b, a)\n",
      "/Users/mohammadshbaita/miniforge3/lib/python3.9/site-packages/numpy/lib/function_base.py:4009: RuntimeWarning: invalid value encountered in subtract\n",
      "  diff_b_a = subtract(b, a)\n",
      "/Users/mohammadshbaita/miniforge3/lib/python3.9/site-packages/numpy/lib/function_base.py:4009: RuntimeWarning: invalid value encountered in subtract\n",
      "  diff_b_a = subtract(b, a)\n",
      "/Users/mohammadshbaita/miniforge3/lib/python3.9/site-packages/numpy/lib/function_base.py:4009: RuntimeWarning: invalid value encountered in subtract\n",
      "  diff_b_a = subtract(b, a)\n",
      "/Users/mohammadshbaita/miniforge3/lib/python3.9/site-packages/numpy/lib/function_base.py:4009: RuntimeWarning: invalid value encountered in subtract\n",
      "  diff_b_a = subtract(b, a)\n",
      "/Users/mohammadshbaita/miniforge3/lib/python3.9/site-packages/numpy/lib/function_base.py:4009: RuntimeWarning: invalid value encountered in subtract\n",
      "  diff_b_a = subtract(b, a)\n",
      "/Users/mohammadshbaita/miniforge3/lib/python3.9/site-packages/numpy/lib/function_base.py:4009: RuntimeWarning: invalid value encountered in subtract\n",
      "  diff_b_a = subtract(b, a)\n",
      "/Users/mohammadshbaita/miniforge3/lib/python3.9/site-packages/numpy/lib/function_base.py:4009: RuntimeWarning: invalid value encountered in subtract\n",
      "  diff_b_a = subtract(b, a)\n",
      "/Users/mohammadshbaita/miniforge3/lib/python3.9/site-packages/numpy/lib/function_base.py:4009: RuntimeWarning: invalid value encountered in subtract\n",
      "  diff_b_a = subtract(b, a)\n",
      "/Users/mohammadshbaita/miniforge3/lib/python3.9/site-packages/numpy/lib/function_base.py:4009: RuntimeWarning: invalid value encountered in subtract\n",
      "  diff_b_a = subtract(b, a)\n",
      "/Users/mohammadshbaita/miniforge3/lib/python3.9/site-packages/numpy/lib/function_base.py:4009: RuntimeWarning: invalid value encountered in subtract\n",
      "  diff_b_a = subtract(b, a)\n",
      "/Users/mohammadshbaita/miniforge3/lib/python3.9/site-packages/numpy/lib/function_base.py:4009: RuntimeWarning: invalid value encountered in subtract\n",
      "  diff_b_a = subtract(b, a)\n",
      "/Users/mohammadshbaita/miniforge3/lib/python3.9/site-packages/numpy/lib/function_base.py:4009: RuntimeWarning: invalid value encountered in subtract\n",
      "  diff_b_a = subtract(b, a)\n",
      "/Users/mohammadshbaita/miniforge3/lib/python3.9/site-packages/numpy/lib/function_base.py:4012: RuntimeWarning: invalid value encountered in subtract\n",
      "  subtract(b, diff_b_a * (1 - t), out=lerp_interpolation, where=t>=0.5)\n",
      "/Users/mohammadshbaita/miniforge3/lib/python3.9/site-packages/numpy/lib/function_base.py:4009: RuntimeWarning: invalid value encountered in subtract\n",
      "  diff_b_a = subtract(b, a)\n",
      "/Users/mohammadshbaita/miniforge3/lib/python3.9/site-packages/numpy/lib/function_base.py:4009: RuntimeWarning: invalid value encountered in subtract\n",
      "  diff_b_a = subtract(b, a)\n",
      "/Users/mohammadshbaita/miniforge3/lib/python3.9/site-packages/numpy/lib/function_base.py:4009: RuntimeWarning: invalid value encountered in subtract\n",
      "  diff_b_a = subtract(b, a)\n",
      "/Users/mohammadshbaita/miniforge3/lib/python3.9/site-packages/numpy/lib/function_base.py:4009: RuntimeWarning: invalid value encountered in subtract\n",
      "  diff_b_a = subtract(b, a)\n",
      "/Users/mohammadshbaita/miniforge3/lib/python3.9/site-packages/numpy/lib/function_base.py:4009: RuntimeWarning: invalid value encountered in subtract\n",
      "  diff_b_a = subtract(b, a)\n",
      "/Users/mohammadshbaita/miniforge3/lib/python3.9/site-packages/numpy/lib/function_base.py:4009: RuntimeWarning: invalid value encountered in subtract\n",
      "  diff_b_a = subtract(b, a)\n",
      "/Users/mohammadshbaita/miniforge3/lib/python3.9/site-packages/numpy/lib/function_base.py:4009: RuntimeWarning: invalid value encountered in subtract\n",
      "  diff_b_a = subtract(b, a)\n",
      "/Users/mohammadshbaita/miniforge3/lib/python3.9/site-packages/numpy/lib/function_base.py:4009: RuntimeWarning: invalid value encountered in subtract\n",
      "  diff_b_a = subtract(b, a)\n",
      "/Users/mohammadshbaita/miniforge3/lib/python3.9/site-packages/numpy/lib/function_base.py:4009: RuntimeWarning: invalid value encountered in subtract\n",
      "  diff_b_a = subtract(b, a)\n",
      "/Users/mohammadshbaita/miniforge3/lib/python3.9/site-packages/numpy/lib/function_base.py:4009: RuntimeWarning: invalid value encountered in subtract\n",
      "  diff_b_a = subtract(b, a)\n",
      "/Users/mohammadshbaita/miniforge3/lib/python3.9/site-packages/numpy/lib/function_base.py:4009: RuntimeWarning: invalid value encountered in subtract\n",
      "  diff_b_a = subtract(b, a)\n",
      "/Users/mohammadshbaita/miniforge3/lib/python3.9/site-packages/numpy/lib/function_base.py:4009: RuntimeWarning: invalid value encountered in subtract\n",
      "  diff_b_a = subtract(b, a)\n",
      "/Users/mohammadshbaita/miniforge3/lib/python3.9/site-packages/numpy/lib/function_base.py:4009: RuntimeWarning: invalid value encountered in subtract\n",
      "  diff_b_a = subtract(b, a)\n",
      "/Users/mohammadshbaita/miniforge3/lib/python3.9/site-packages/numpy/lib/function_base.py:4009: RuntimeWarning: invalid value encountered in subtract\n",
      "  diff_b_a = subtract(b, a)\n",
      "/Users/mohammadshbaita/miniforge3/lib/python3.9/site-packages/numpy/lib/function_base.py:4009: RuntimeWarning: invalid value encountered in subtract\n",
      "  diff_b_a = subtract(b, a)\n",
      "/Users/mohammadshbaita/miniforge3/lib/python3.9/site-packages/numpy/lib/function_base.py:4009: RuntimeWarning: invalid value encountered in subtract\n",
      "  diff_b_a = subtract(b, a)\n",
      "/Users/mohammadshbaita/miniforge3/lib/python3.9/site-packages/numpy/lib/function_base.py:4009: RuntimeWarning: invalid value encountered in subtract\n",
      "  diff_b_a = subtract(b, a)\n",
      "/Users/mohammadshbaita/miniforge3/lib/python3.9/site-packages/numpy/lib/function_base.py:4009: RuntimeWarning: invalid value encountered in subtract\n",
      "  diff_b_a = subtract(b, a)\n",
      "/Users/mohammadshbaita/miniforge3/lib/python3.9/site-packages/numpy/lib/function_base.py:4009: RuntimeWarning: invalid value encountered in subtract\n",
      "  diff_b_a = subtract(b, a)\n",
      "/Users/mohammadshbaita/miniforge3/lib/python3.9/site-packages/numpy/lib/function_base.py:4009: RuntimeWarning: invalid value encountered in subtract\n",
      "  diff_b_a = subtract(b, a)\n",
      "/Users/mohammadshbaita/miniforge3/lib/python3.9/site-packages/numpy/lib/function_base.py:4009: RuntimeWarning: invalid value encountered in subtract\n",
      "  diff_b_a = subtract(b, a)\n",
      "/Users/mohammadshbaita/miniforge3/lib/python3.9/site-packages/numpy/lib/function_base.py:4009: RuntimeWarning: invalid value encountered in subtract\n",
      "  diff_b_a = subtract(b, a)\n",
      "/Users/mohammadshbaita/miniforge3/lib/python3.9/site-packages/numpy/lib/function_base.py:4009: RuntimeWarning: invalid value encountered in subtract\n",
      "  diff_b_a = subtract(b, a)\n",
      "/Users/mohammadshbaita/miniforge3/lib/python3.9/site-packages/numpy/lib/function_base.py:4009: RuntimeWarning: invalid value encountered in subtract\n",
      "  diff_b_a = subtract(b, a)\n",
      "/Users/mohammadshbaita/miniforge3/lib/python3.9/site-packages/numpy/lib/function_base.py:4009: RuntimeWarning: invalid value encountered in subtract\n",
      "  diff_b_a = subtract(b, a)\n",
      "/Users/mohammadshbaita/miniforge3/lib/python3.9/site-packages/numpy/lib/function_base.py:4009: RuntimeWarning: invalid value encountered in subtract\n",
      "  diff_b_a = subtract(b, a)\n",
      "/Users/mohammadshbaita/miniforge3/lib/python3.9/site-packages/numpy/lib/function_base.py:4009: RuntimeWarning: invalid value encountered in subtract\n",
      "  diff_b_a = subtract(b, a)\n",
      "/Users/mohammadshbaita/miniforge3/lib/python3.9/site-packages/numpy/lib/function_base.py:4009: RuntimeWarning: invalid value encountered in subtract\n",
      "  diff_b_a = subtract(b, a)\n",
      "/Users/mohammadshbaita/miniforge3/lib/python3.9/site-packages/numpy/lib/function_base.py:4009: RuntimeWarning: invalid value encountered in subtract\n",
      "  diff_b_a = subtract(b, a)\n",
      "/Users/mohammadshbaita/miniforge3/lib/python3.9/site-packages/numpy/lib/function_base.py:4009: RuntimeWarning: invalid value encountered in subtract\n",
      "  diff_b_a = subtract(b, a)\n",
      "/Users/mohammadshbaita/miniforge3/lib/python3.9/site-packages/numpy/lib/function_base.py:4009: RuntimeWarning: invalid value encountered in subtract\n",
      "  diff_b_a = subtract(b, a)\n",
      "/Users/mohammadshbaita/miniforge3/lib/python3.9/site-packages/numpy/lib/function_base.py:4009: RuntimeWarning: invalid value encountered in subtract\n",
      "  diff_b_a = subtract(b, a)\n",
      "/Users/mohammadshbaita/miniforge3/lib/python3.9/site-packages/numpy/lib/function_base.py:4009: RuntimeWarning: invalid value encountered in subtract\n",
      "  diff_b_a = subtract(b, a)\n",
      "/Users/mohammadshbaita/miniforge3/lib/python3.9/site-packages/numpy/lib/function_base.py:4009: RuntimeWarning: invalid value encountered in subtract\n",
      "  diff_b_a = subtract(b, a)\n",
      "/Users/mohammadshbaita/miniforge3/lib/python3.9/site-packages/numpy/lib/function_base.py:4009: RuntimeWarning: invalid value encountered in subtract\n",
      "  diff_b_a = subtract(b, a)\n",
      "/Users/mohammadshbaita/miniforge3/lib/python3.9/site-packages/numpy/lib/function_base.py:4009: RuntimeWarning: invalid value encountered in subtract\n",
      "  diff_b_a = subtract(b, a)\n",
      "/Users/mohammadshbaita/miniforge3/lib/python3.9/site-packages/numpy/lib/function_base.py:4009: RuntimeWarning: invalid value encountered in subtract\n",
      "  diff_b_a = subtract(b, a)\n",
      "/Users/mohammadshbaita/miniforge3/lib/python3.9/site-packages/numpy/lib/function_base.py:4009: RuntimeWarning: invalid value encountered in subtract\n",
      "  diff_b_a = subtract(b, a)\n",
      "/Users/mohammadshbaita/miniforge3/lib/python3.9/site-packages/numpy/lib/function_base.py:4009: RuntimeWarning: invalid value encountered in subtract\n",
      "  diff_b_a = subtract(b, a)\n",
      "/Users/mohammadshbaita/miniforge3/lib/python3.9/site-packages/numpy/lib/function_base.py:4009: RuntimeWarning: invalid value encountered in subtract\n",
      "  diff_b_a = subtract(b, a)\n",
      "/Users/mohammadshbaita/miniforge3/lib/python3.9/site-packages/numpy/lib/function_base.py:4009: RuntimeWarning: invalid value encountered in subtract\n",
      "  diff_b_a = subtract(b, a)\n",
      "/Users/mohammadshbaita/miniforge3/lib/python3.9/site-packages/numpy/lib/function_base.py:4012: RuntimeWarning: invalid value encountered in subtract\n",
      "  subtract(b, diff_b_a * (1 - t), out=lerp_interpolation, where=t>=0.5)\n",
      "/Users/mohammadshbaita/miniforge3/lib/python3.9/site-packages/numpy/lib/function_base.py:4009: RuntimeWarning: invalid value encountered in subtract\n",
      "  diff_b_a = subtract(b, a)\n",
      "/Users/mohammadshbaita/miniforge3/lib/python3.9/site-packages/numpy/lib/function_base.py:4009: RuntimeWarning: invalid value encountered in subtract\n",
      "  diff_b_a = subtract(b, a)\n",
      "/Users/mohammadshbaita/miniforge3/lib/python3.9/site-packages/numpy/lib/function_base.py:4009: RuntimeWarning: invalid value encountered in subtract\n",
      "  diff_b_a = subtract(b, a)\n",
      "/Users/mohammadshbaita/miniforge3/lib/python3.9/site-packages/numpy/lib/function_base.py:4009: RuntimeWarning: invalid value encountered in subtract\n",
      "  diff_b_a = subtract(b, a)\n",
      "/Users/mohammadshbaita/miniforge3/lib/python3.9/site-packages/numpy/lib/function_base.py:4009: RuntimeWarning: invalid value encountered in subtract\n",
      "  diff_b_a = subtract(b, a)\n",
      "/Users/mohammadshbaita/miniforge3/lib/python3.9/site-packages/numpy/lib/function_base.py:4009: RuntimeWarning: invalid value encountered in subtract\n",
      "  diff_b_a = subtract(b, a)\n",
      "/Users/mohammadshbaita/miniforge3/lib/python3.9/site-packages/numpy/lib/function_base.py:4009: RuntimeWarning: invalid value encountered in subtract\n",
      "  diff_b_a = subtract(b, a)\n",
      "/Users/mohammadshbaita/miniforge3/lib/python3.9/site-packages/numpy/lib/function_base.py:4009: RuntimeWarning: invalid value encountered in subtract\n",
      "  diff_b_a = subtract(b, a)\n",
      "/Users/mohammadshbaita/miniforge3/lib/python3.9/site-packages/numpy/lib/function_base.py:4012: RuntimeWarning: invalid value encountered in subtract\n",
      "  subtract(b, diff_b_a * (1 - t), out=lerp_interpolation, where=t>=0.5)\n",
      "/Users/mohammadshbaita/miniforge3/lib/python3.9/site-packages/numpy/lib/function_base.py:4009: RuntimeWarning: invalid value encountered in subtract\n",
      "  diff_b_a = subtract(b, a)\n",
      "/Users/mohammadshbaita/miniforge3/lib/python3.9/site-packages/numpy/lib/function_base.py:4009: RuntimeWarning: invalid value encountered in subtract\n",
      "  diff_b_a = subtract(b, a)\n",
      "/Users/mohammadshbaita/miniforge3/lib/python3.9/site-packages/numpy/lib/function_base.py:4009: RuntimeWarning: invalid value encountered in subtract\n",
      "  diff_b_a = subtract(b, a)\n",
      "/Users/mohammadshbaita/miniforge3/lib/python3.9/site-packages/numpy/lib/function_base.py:4009: RuntimeWarning: invalid value encountered in subtract\n",
      "  diff_b_a = subtract(b, a)\n",
      "/Users/mohammadshbaita/miniforge3/lib/python3.9/site-packages/numpy/lib/function_base.py:4009: RuntimeWarning: invalid value encountered in subtract\n",
      "  diff_b_a = subtract(b, a)\n",
      "/Users/mohammadshbaita/miniforge3/lib/python3.9/site-packages/numpy/lib/function_base.py:4009: RuntimeWarning: invalid value encountered in subtract\n",
      "  diff_b_a = subtract(b, a)\n",
      "/Users/mohammadshbaita/miniforge3/lib/python3.9/site-packages/numpy/lib/function_base.py:4009: RuntimeWarning: invalid value encountered in subtract\n",
      "  diff_b_a = subtract(b, a)\n",
      "/Users/mohammadshbaita/miniforge3/lib/python3.9/site-packages/numpy/lib/function_base.py:4009: RuntimeWarning: invalid value encountered in subtract\n",
      "  diff_b_a = subtract(b, a)\n",
      "/Users/mohammadshbaita/miniforge3/lib/python3.9/site-packages/numpy/lib/function_base.py:4009: RuntimeWarning: invalid value encountered in subtract\n",
      "  diff_b_a = subtract(b, a)\n",
      "/Users/mohammadshbaita/miniforge3/lib/python3.9/site-packages/numpy/lib/function_base.py:4009: RuntimeWarning: invalid value encountered in subtract\n",
      "  diff_b_a = subtract(b, a)\n",
      "/Users/mohammadshbaita/miniforge3/lib/python3.9/site-packages/numpy/lib/function_base.py:4009: RuntimeWarning: invalid value encountered in subtract\n",
      "  diff_b_a = subtract(b, a)\n",
      "/Users/mohammadshbaita/miniforge3/lib/python3.9/site-packages/numpy/lib/function_base.py:4009: RuntimeWarning: invalid value encountered in subtract\n",
      "  diff_b_a = subtract(b, a)\n",
      "/Users/mohammadshbaita/miniforge3/lib/python3.9/site-packages/numpy/lib/function_base.py:4009: RuntimeWarning: invalid value encountered in subtract\n",
      "  diff_b_a = subtract(b, a)\n",
      "/Users/mohammadshbaita/miniforge3/lib/python3.9/site-packages/numpy/lib/function_base.py:4009: RuntimeWarning: invalid value encountered in subtract\n",
      "  diff_b_a = subtract(b, a)\n",
      "/Users/mohammadshbaita/miniforge3/lib/python3.9/site-packages/numpy/lib/function_base.py:4009: RuntimeWarning: invalid value encountered in subtract\n",
      "  diff_b_a = subtract(b, a)\n",
      "/Users/mohammadshbaita/miniforge3/lib/python3.9/site-packages/numpy/lib/function_base.py:4009: RuntimeWarning: invalid value encountered in subtract\n",
      "  diff_b_a = subtract(b, a)\n",
      "/Users/mohammadshbaita/miniforge3/lib/python3.9/site-packages/numpy/lib/function_base.py:4009: RuntimeWarning: invalid value encountered in subtract\n",
      "  diff_b_a = subtract(b, a)\n",
      "/Users/mohammadshbaita/miniforge3/lib/python3.9/site-packages/numpy/lib/function_base.py:4009: RuntimeWarning: invalid value encountered in subtract\n",
      "  diff_b_a = subtract(b, a)\n",
      "/Users/mohammadshbaita/miniforge3/lib/python3.9/site-packages/numpy/lib/function_base.py:4009: RuntimeWarning: invalid value encountered in subtract\n",
      "  diff_b_a = subtract(b, a)\n",
      "/Users/mohammadshbaita/miniforge3/lib/python3.9/site-packages/numpy/lib/function_base.py:4009: RuntimeWarning: invalid value encountered in subtract\n",
      "  diff_b_a = subtract(b, a)\n",
      "/Users/mohammadshbaita/miniforge3/lib/python3.9/site-packages/numpy/lib/function_base.py:4009: RuntimeWarning: invalid value encountered in subtract\n",
      "  diff_b_a = subtract(b, a)\n",
      "/Users/mohammadshbaita/miniforge3/lib/python3.9/site-packages/numpy/lib/function_base.py:4009: RuntimeWarning: invalid value encountered in subtract\n",
      "  diff_b_a = subtract(b, a)\n",
      "/Users/mohammadshbaita/miniforge3/lib/python3.9/site-packages/numpy/lib/function_base.py:4009: RuntimeWarning: invalid value encountered in subtract\n",
      "  diff_b_a = subtract(b, a)\n",
      "/Users/mohammadshbaita/miniforge3/lib/python3.9/site-packages/numpy/lib/function_base.py:4009: RuntimeWarning: invalid value encountered in subtract\n",
      "  diff_b_a = subtract(b, a)\n",
      "/Users/mohammadshbaita/miniforge3/lib/python3.9/site-packages/numpy/lib/function_base.py:4009: RuntimeWarning: invalid value encountered in subtract\n",
      "  diff_b_a = subtract(b, a)\n",
      "/Users/mohammadshbaita/miniforge3/lib/python3.9/site-packages/numpy/lib/function_base.py:4009: RuntimeWarning: invalid value encountered in subtract\n",
      "  diff_b_a = subtract(b, a)\n",
      "/Users/mohammadshbaita/miniforge3/lib/python3.9/site-packages/numpy/lib/function_base.py:4009: RuntimeWarning: invalid value encountered in subtract\n",
      "  diff_b_a = subtract(b, a)\n",
      "/Users/mohammadshbaita/miniforge3/lib/python3.9/site-packages/numpy/lib/function_base.py:4009: RuntimeWarning: invalid value encountered in subtract\n",
      "  diff_b_a = subtract(b, a)\n",
      "/Users/mohammadshbaita/miniforge3/lib/python3.9/site-packages/numpy/lib/function_base.py:4009: RuntimeWarning: invalid value encountered in subtract\n",
      "  diff_b_a = subtract(b, a)\n",
      "/Users/mohammadshbaita/miniforge3/lib/python3.9/site-packages/numpy/lib/function_base.py:4009: RuntimeWarning: invalid value encountered in subtract\n",
      "  diff_b_a = subtract(b, a)\n",
      "/Users/mohammadshbaita/miniforge3/lib/python3.9/site-packages/numpy/lib/function_base.py:4009: RuntimeWarning: invalid value encountered in subtract\n",
      "  diff_b_a = subtract(b, a)\n",
      "/Users/mohammadshbaita/miniforge3/lib/python3.9/site-packages/numpy/lib/function_base.py:4009: RuntimeWarning: invalid value encountered in subtract\n",
      "  diff_b_a = subtract(b, a)\n",
      "/Users/mohammadshbaita/miniforge3/lib/python3.9/site-packages/numpy/lib/function_base.py:4009: RuntimeWarning: invalid value encountered in subtract\n",
      "  diff_b_a = subtract(b, a)\n",
      "/Users/mohammadshbaita/miniforge3/lib/python3.9/site-packages/numpy/lib/function_base.py:4009: RuntimeWarning: invalid value encountered in subtract\n",
      "  diff_b_a = subtract(b, a)\n",
      "/Users/mohammadshbaita/miniforge3/lib/python3.9/site-packages/numpy/lib/function_base.py:4009: RuntimeWarning: invalid value encountered in subtract\n",
      "  diff_b_a = subtract(b, a)\n",
      "/Users/mohammadshbaita/miniforge3/lib/python3.9/site-packages/numpy/lib/function_base.py:4009: RuntimeWarning: invalid value encountered in subtract\n",
      "  diff_b_a = subtract(b, a)\n",
      "/Users/mohammadshbaita/miniforge3/lib/python3.9/site-packages/numpy/lib/function_base.py:4009: RuntimeWarning: invalid value encountered in subtract\n",
      "  diff_b_a = subtract(b, a)\n",
      "/Users/mohammadshbaita/miniforge3/lib/python3.9/site-packages/numpy/lib/function_base.py:4009: RuntimeWarning: invalid value encountered in subtract\n",
      "  diff_b_a = subtract(b, a)\n",
      "/Users/mohammadshbaita/miniforge3/lib/python3.9/site-packages/numpy/lib/function_base.py:4009: RuntimeWarning: invalid value encountered in subtract\n",
      "  diff_b_a = subtract(b, a)\n",
      "/Users/mohammadshbaita/miniforge3/lib/python3.9/site-packages/numpy/lib/function_base.py:4009: RuntimeWarning: invalid value encountered in subtract\n",
      "  diff_b_a = subtract(b, a)\n",
      "/Users/mohammadshbaita/miniforge3/lib/python3.9/site-packages/numpy/lib/function_base.py:4009: RuntimeWarning: invalid value encountered in subtract\n",
      "  diff_b_a = subtract(b, a)\n",
      "/Users/mohammadshbaita/miniforge3/lib/python3.9/site-packages/numpy/lib/function_base.py:4012: RuntimeWarning: invalid value encountered in subtract\n",
      "  subtract(b, diff_b_a * (1 - t), out=lerp_interpolation, where=t>=0.5)\n",
      "/Users/mohammadshbaita/miniforge3/lib/python3.9/site-packages/numpy/lib/function_base.py:4012: RuntimeWarning: invalid value encountered in subtract\n",
      "  subtract(b, diff_b_a * (1 - t), out=lerp_interpolation, where=t>=0.5)\n",
      "/Users/mohammadshbaita/miniforge3/lib/python3.9/site-packages/numpy/lib/function_base.py:4011: RuntimeWarning: invalid value encountered in multiply\n",
      "  lerp_interpolation = asanyarray(add(a, diff_b_a*t, out=out))\n",
      "/Users/mohammadshbaita/miniforge3/lib/python3.9/site-packages/numpy/lib/function_base.py:4012: RuntimeWarning: invalid value encountered in subtract\n",
      "  subtract(b, diff_b_a * (1 - t), out=lerp_interpolation, where=t>=0.5)\n",
      "/Users/mohammadshbaita/miniforge3/lib/python3.9/site-packages/numpy/lib/function_base.py:4009: RuntimeWarning: invalid value encountered in subtract\n",
      "  diff_b_a = subtract(b, a)\n",
      "/Users/mohammadshbaita/miniforge3/lib/python3.9/site-packages/numpy/lib/function_base.py:4011: RuntimeWarning: invalid value encountered in multiply\n",
      "  lerp_interpolation = asanyarray(add(a, diff_b_a*t, out=out))\n",
      "/Users/mohammadshbaita/miniforge3/lib/python3.9/site-packages/numpy/lib/function_base.py:4011: RuntimeWarning: invalid value encountered in multiply\n",
      "  lerp_interpolation = asanyarray(add(a, diff_b_a*t, out=out))\n",
      "/Users/mohammadshbaita/miniforge3/lib/python3.9/site-packages/numpy/lib/function_base.py:4009: RuntimeWarning: invalid value encountered in subtract\n",
      "  diff_b_a = subtract(b, a)\n",
      "/Users/mohammadshbaita/miniforge3/lib/python3.9/site-packages/numpy/lib/function_base.py:4009: RuntimeWarning: invalid value encountered in subtract\n",
      "  diff_b_a = subtract(b, a)\n",
      "/Users/mohammadshbaita/miniforge3/lib/python3.9/site-packages/numpy/lib/function_base.py:4009: RuntimeWarning: invalid value encountered in subtract\n",
      "  diff_b_a = subtract(b, a)\n",
      "/Users/mohammadshbaita/miniforge3/lib/python3.9/site-packages/numpy/lib/function_base.py:4009: RuntimeWarning: invalid value encountered in subtract\n",
      "  diff_b_a = subtract(b, a)\n",
      "/Users/mohammadshbaita/miniforge3/lib/python3.9/site-packages/numpy/lib/function_base.py:4009: RuntimeWarning: invalid value encountered in subtract\n",
      "  diff_b_a = subtract(b, a)\n",
      "/Users/mohammadshbaita/miniforge3/lib/python3.9/site-packages/numpy/lib/function_base.py:4009: RuntimeWarning: invalid value encountered in subtract\n",
      "  diff_b_a = subtract(b, a)\n",
      "/Users/mohammadshbaita/miniforge3/lib/python3.9/site-packages/numpy/lib/function_base.py:4009: RuntimeWarning: invalid value encountered in subtract\n",
      "  diff_b_a = subtract(b, a)\n",
      "/Users/mohammadshbaita/miniforge3/lib/python3.9/site-packages/numpy/lib/function_base.py:4009: RuntimeWarning: invalid value encountered in subtract\n",
      "  diff_b_a = subtract(b, a)\n",
      "/Users/mohammadshbaita/miniforge3/lib/python3.9/site-packages/numpy/lib/function_base.py:4009: RuntimeWarning: invalid value encountered in subtract\n",
      "  diff_b_a = subtract(b, a)\n",
      "/Users/mohammadshbaita/miniforge3/lib/python3.9/site-packages/numpy/lib/function_base.py:4009: RuntimeWarning: invalid value encountered in subtract\n",
      "  diff_b_a = subtract(b, a)\n",
      "/Users/mohammadshbaita/miniforge3/lib/python3.9/site-packages/numpy/lib/function_base.py:4009: RuntimeWarning: invalid value encountered in subtract\n",
      "  diff_b_a = subtract(b, a)\n",
      "/Users/mohammadshbaita/miniforge3/lib/python3.9/site-packages/numpy/lib/function_base.py:4009: RuntimeWarning: invalid value encountered in subtract\n",
      "  diff_b_a = subtract(b, a)\n",
      "/Users/mohammadshbaita/miniforge3/lib/python3.9/site-packages/numpy/lib/function_base.py:4009: RuntimeWarning: invalid value encountered in subtract\n",
      "  diff_b_a = subtract(b, a)\n",
      "/Users/mohammadshbaita/miniforge3/lib/python3.9/site-packages/numpy/lib/function_base.py:4009: RuntimeWarning: invalid value encountered in subtract\n",
      "  diff_b_a = subtract(b, a)\n",
      "/Users/mohammadshbaita/miniforge3/lib/python3.9/site-packages/numpy/lib/function_base.py:4009: RuntimeWarning: invalid value encountered in subtract\n",
      "  diff_b_a = subtract(b, a)\n",
      "/Users/mohammadshbaita/miniforge3/lib/python3.9/site-packages/numpy/lib/function_base.py:4009: RuntimeWarning: invalid value encountered in subtract\n",
      "  diff_b_a = subtract(b, a)\n",
      "/Users/mohammadshbaita/miniforge3/lib/python3.9/site-packages/numpy/lib/function_base.py:4009: RuntimeWarning: invalid value encountered in subtract\n",
      "  diff_b_a = subtract(b, a)\n",
      "/Users/mohammadshbaita/miniforge3/lib/python3.9/site-packages/numpy/lib/function_base.py:4009: RuntimeWarning: invalid value encountered in subtract\n",
      "  diff_b_a = subtract(b, a)\n",
      "/Users/mohammadshbaita/miniforge3/lib/python3.9/site-packages/numpy/lib/function_base.py:4009: RuntimeWarning: invalid value encountered in subtract\n",
      "  diff_b_a = subtract(b, a)\n",
      "/Users/mohammadshbaita/miniforge3/lib/python3.9/site-packages/numpy/lib/function_base.py:4009: RuntimeWarning: invalid value encountered in subtract\n",
      "  diff_b_a = subtract(b, a)\n",
      "/Users/mohammadshbaita/miniforge3/lib/python3.9/site-packages/numpy/lib/function_base.py:4009: RuntimeWarning: invalid value encountered in subtract\n",
      "  diff_b_a = subtract(b, a)\n",
      "/Users/mohammadshbaita/miniforge3/lib/python3.9/site-packages/numpy/lib/function_base.py:4011: RuntimeWarning: invalid value encountered in multiply\n",
      "  lerp_interpolation = asanyarray(add(a, diff_b_a*t, out=out))\n",
      "/Users/mohammadshbaita/miniforge3/lib/python3.9/site-packages/numpy/lib/function_base.py:4011: RuntimeWarning: invalid value encountered in multiply\n",
      "  lerp_interpolation = asanyarray(add(a, diff_b_a*t, out=out))\n",
      "/Users/mohammadshbaita/miniforge3/lib/python3.9/site-packages/numpy/lib/function_base.py:4012: RuntimeWarning: invalid value encountered in subtract\n",
      "  subtract(b, diff_b_a * (1 - t), out=lerp_interpolation, where=t>=0.5)\n",
      "/Users/mohammadshbaita/miniforge3/lib/python3.9/site-packages/numpy/lib/function_base.py:4012: RuntimeWarning: invalid value encountered in subtract\n",
      "  subtract(b, diff_b_a * (1 - t), out=lerp_interpolation, where=t>=0.5)\n"
     ]
    }
   ],
   "source": [
    "grouped_data = rentals.groupby(['property_type', 'district_name_en'])['price_per_meter'].describe()\n"
   ]
  },
  {
   "cell_type": "code",
   "execution_count": null,
   "id": "a8be01d8",
   "metadata": {},
   "outputs": [],
   "source": [
    "print(grouped_data.head(100))\n"
   ]
  },
  {
   "cell_type": "code",
   "execution_count": 145,
   "id": "dc3120d0",
   "metadata": {},
   "outputs": [
    {
     "name": "stdout",
     "output_type": "stream",
     "text": [
      "                                count          mean           std  \\\n",
      "property_type district_name_en                                      \n",
      "أرض           Ad Dar Al Baida     2.0  2.644231e+03  7.932288e+02   \n",
      "              Al Aqiq             5.0  5.134377e+03  3.281292e+03   \n",
      "              Al Faiha            2.0  1.482143e+03  1.271109e+03   \n",
      "              Al Faisaliyah       4.0  3.165412e+03  2.125569e+03   \n",
      "              Al Ghnamiah         5.0  1.960140e+03  2.005449e+03   \n",
      "...                               ...           ...           ...   \n",
      "استراحة       As Sulai           31.0  1.105599e+04  3.538762e+04   \n",
      "              Ash Sharq          88.0  1.415873e+04  8.636449e+04   \n",
      "              Ash Shifa           5.0  3.457204e+04  6.481482e+04   \n",
      "              Badr               13.0  4.058979e+03  7.243406e+03   \n",
      "              Banban             29.0  5.993984e+07  3.227551e+08   \n",
      "\n",
      "                                        min          25%          50%  \\\n",
      "property_type district_name_en                                          \n",
      "أرض           Ad Dar Al Baida   2083.333333  2363.782051  2644.230769   \n",
      "              Al Aqiq           1632.653061  2052.545156  5566.666667   \n",
      "              Al Faiha           583.333333  1032.738095  1482.142857   \n",
      "              Al Faisaliyah     1129.943503  1556.263050  2932.518116   \n",
      "              Al Ghnamiah        250.000000   583.333333   666.666667   \n",
      "...                                     ...          ...          ...   \n",
      "استراحة       As Sulai          1083.333333  1483.333333  3205.128205   \n",
      "              Ash Sharq           16.666667  1833.333333  2443.438914   \n",
      "              Ash Shifa          202.777778   250.000000  7407.407407   \n",
      "              Badr               137.254902  1555.555556  2166.666667   \n",
      "              Banban              92.592593  1703.333333  2380.952381   \n",
      "\n",
      "                                         75%           max  \n",
      "property_type district_name_en                              \n",
      "أرض           Ad Dar Al Baida    2924.679487  3.205128e+03  \n",
      "              Al Aqiq            7160.759040  9.259259e+03  \n",
      "              Al Faiha           1931.547619  2.380952e+03  \n",
      "              Al Faisaliyah      4541.666667  5.666667e+03  \n",
      "              Al Ghnamiah        4150.000000  4.150702e+03  \n",
      "...                                      ...           ...  \n",
      "استراحة       As Sulai           5107.142857  2.000000e+05  \n",
      "              Ash Sharq          3645.833333  8.111111e+05  \n",
      "              Ash Shifa         15000.000000  1.500000e+05  \n",
      "              Badr               2823.529412  2.800000e+04  \n",
      "              Banban            10428.571429  1.738095e+09  \n",
      "\n",
      "[100 rows x 8 columns]\n"
     ]
    }
   ],
   "source": [
    "\n",
    "# Assuming 'grouped_data' is the DataFrame you want to clean\n",
    "cleaned_grouped_data = grouped_data.dropna()\n",
    "print(cleaned_grouped_data.head(100))\n"
   ]
  },
  {
   "cell_type": "code",
   "execution_count": 146,
   "id": "6050b223",
   "metadata": {},
   "outputs": [],
   "source": [
    "cleaned_grouped_data.to_csv(\"cleaned_grouped_data.csv\")"
   ]
  },
  {
   "cell_type": "markdown",
   "id": "6df18345",
   "metadata": {},
   "source": [
    "###### Highest and Lowest Average Price per Meter"
   ]
  },
  {
   "cell_type": "code",
   "execution_count": 148,
   "id": "a47c6576",
   "metadata": {},
   "outputs": [],
   "source": [
    "highest_avg = cleaned_grouped_data.sort_values(by='mean', ascending=False).head(5)\n",
    "lowest_avg = cleaned_grouped_data.sort_values(by='mean', ascending=True).head(5)\n",
    "\n"
   ]
  },
  {
   "cell_type": "markdown",
   "id": "d979ed72",
   "metadata": {},
   "source": [
    "###### Highest and Lowest Standard Deviation"
   ]
  },
  {
   "cell_type": "code",
   "execution_count": 149,
   "id": "e835f986",
   "metadata": {},
   "outputs": [],
   "source": [
    "highest_std = cleaned_grouped_data.sort_values(by='std', ascending=False).head(5)\n",
    "lowest_std = cleaned_grouped_data.sort_values(by='std', ascending=True).head(5)"
   ]
  },
  {
   "cell_type": "markdown",
   "id": "fc3caf47",
   "metadata": {},
   "source": [
    "###### Potential Outliers based on Max and Min Values"
   ]
  },
  {
   "cell_type": "code",
   "execution_count": 151,
   "id": "336867df",
   "metadata": {},
   "outputs": [],
   "source": [
    "potential_outliers_max = cleaned_grouped_data.sort_values(by='max', ascending=False).head(5)\n",
    "potential_outliers_min = cleaned_grouped_data.sort_values(by='min', ascending=True).head(5)"
   ]
  },
  {
   "cell_type": "code",
   "execution_count": 152,
   "id": "dfba99c8",
   "metadata": {},
   "outputs": [
    {
     "name": "stdout",
     "output_type": "stream",
     "text": [
      "Highest Average Price per Meter:\n",
      "                                   count          mean           std  \\\n",
      "property_type district_name_en                                         \n",
      "استراحة       Dhahrat Namar         23.0  2.938877e+09  1.409401e+10   \n",
      "              Al Maizilah           25.0  3.753019e+08  1.875861e+09   \n",
      "محل           Al Amal                2.0  8.516669e+07  1.204438e+08   \n",
      "              An Nasim Ash Sharqi   23.0  8.238752e+07  3.949045e+08   \n",
      "              Laban                 13.0  7.147974e+07  2.567302e+08   \n",
      "\n",
      "                                           min           25%           50%  \\\n",
      "property_type district_name_en                                               \n",
      "استراحة       Dhahrat Namar        1481.481481  4.416667e+03  9.125000e+03   \n",
      "              Al Maizilah             0.888889  2.756892e+03  4.245283e+03   \n",
      "محل           Al Amal                41.025641  4.258336e+07  8.516669e+07   \n",
      "              An Nasim Ash Sharqi    67.500068  7.256944e+03  1.041667e+04   \n",
      "              Laban                 333.333333  8.333333e+03  1.822917e+04   \n",
      "\n",
      "                                            75%           max  \n",
      "property_type district_name_en                                 \n",
      "استراحة       Dhahrat Namar        1.993981e+04  6.759259e+10  \n",
      "              Al Maizilah          1.169872e+04  9.379435e+09  \n",
      "محل           Al Amal              1.277500e+08  1.703333e+08  \n",
      "              An Nasim Ash Sharqi  2.416667e+04  1.893939e+09  \n",
      "              Laban                3.431373e+04  9.259250e+08  \n"
     ]
    }
   ],
   "source": [
    "print(\"Highest Average Price per Meter:\")\n",
    "print(highest_avg)"
   ]
  },
  {
   "cell_type": "code",
   "execution_count": 153,
   "id": "4dfecccb",
   "metadata": {},
   "outputs": [
    {
     "name": "stdout",
     "output_type": "stream",
     "text": [
      "\n",
      "Lowest Average Price per Meter:\n",
      "                                  count        mean         std        min  \\\n",
      "property_type district_name_en                                               \n",
      "بيت           Qurtubah              2.0    9.333051   10.370500   2.000000   \n",
      "أرض           Al Muhammadiyah       2.0   84.258333  116.542983   1.850000   \n",
      "مستودع        Hyt                   2.0   86.937500  117.939519   3.541667   \n",
      "استراحة       Al Uraija Al Wusta    2.0   91.666667  106.066017  16.666667   \n",
      "              Al Haer               2.0  101.273148   77.749010  46.296296   \n",
      "\n",
      "                                        25%         50%         75%  \\\n",
      "property_type district_name_en                                        \n",
      "بيت           Qurtubah             5.666526    9.333051   12.999577   \n",
      "أرض           Al Muhammadiyah     43.054167   84.258333  125.462500   \n",
      "مستودع        Hyt                 45.239583   86.937500  128.635417   \n",
      "استراحة       Al Uraija Al Wusta  54.166667   91.666667  129.166667   \n",
      "              Al Haer             73.784722  101.273148  128.761574   \n",
      "\n",
      "                                         max  \n",
      "property_type district_name_en                \n",
      "بيت           Qurtubah             16.666102  \n",
      "أرض           Al Muhammadiyah     166.666667  \n",
      "مستودع        Hyt                 170.333333  \n",
      "استراحة       Al Uraija Al Wusta  166.666667  \n",
      "              Al Haer             156.250000  \n"
     ]
    }
   ],
   "source": [
    "print(\"\\nLowest Average Price per Meter:\")\n",
    "print(lowest_avg)\n"
   ]
  },
  {
   "cell_type": "code",
   "execution_count": 154,
   "id": "7a8f8c61",
   "metadata": {},
   "outputs": [
    {
     "name": "stdout",
     "output_type": "stream",
     "text": [
      "\n",
      "Highest Standard Deviation in Price per Meter:\n",
      "                                   count          mean           std  \\\n",
      "property_type district_name_en                                         \n",
      "استراحة       Dhahrat Namar         23.0  2.938877e+09  1.409401e+10   \n",
      "              Al Maizilah           25.0  3.753019e+08  1.875861e+09   \n",
      "محل           An Nasim Ash Sharqi   23.0  8.238752e+07  3.949045e+08   \n",
      "استراحة       Banban                29.0  5.993984e+07  3.227551e+08   \n",
      "محل           Laban                 13.0  7.147974e+07  2.567302e+08   \n",
      "\n",
      "                                           min          25%           50%  \\\n",
      "property_type district_name_en                                              \n",
      "استراحة       Dhahrat Namar        1481.481481  4416.666667   9125.000000   \n",
      "              Al Maizilah             0.888889  2756.892231   4245.283019   \n",
      "محل           An Nasim Ash Sharqi    67.500068  7256.944444  10416.666667   \n",
      "استراحة       Banban                 92.592593  1703.333333   2380.952381   \n",
      "محل           Laban                 333.333333  8333.333333  18229.166667   \n",
      "\n",
      "                                            75%           max  \n",
      "property_type district_name_en                                 \n",
      "استراحة       Dhahrat Namar        19939.814815  6.759259e+10  \n",
      "              Al Maizilah          11698.717949  9.379435e+09  \n",
      "محل           An Nasim Ash Sharqi  24166.666667  1.893939e+09  \n",
      "استراحة       Banban               10428.571429  1.738095e+09  \n",
      "محل           Laban                34313.725490  9.259250e+08  \n"
     ]
    }
   ],
   "source": [
    "print(\"\\nHighest Standard Deviation in Price per Meter:\")\n",
    "print(highest_std)\n"
   ]
  },
  {
   "cell_type": "code",
   "execution_count": 156,
   "id": "81b0c613",
   "metadata": {},
   "outputs": [
    {
     "name": "stdout",
     "output_type": "stream",
     "text": [
      "\n",
      "Lowest Standard Deviation in Price per Meter:\n",
      "                                count          mean  std           min  \\\n",
      "property_type district_name_en                                           \n",
      "محل           Al Mikal            2.0  15277.777778  0.0  15277.777778   \n",
      "استراحة       Al Faiha            4.0  16222.222222  0.0  16222.222222   \n",
      "مستودع        Al Yarmuk           2.0   5333.333333  0.0   5333.333333   \n",
      "مكتب تجاري    An Nazim            3.0   5000.000000  0.0   5000.000000   \n",
      "بيت           Jarir               2.0   4772.727273  0.0   4772.727273   \n",
      "\n",
      "                                         25%           50%           75%  \\\n",
      "property_type district_name_en                                             \n",
      "محل           Al Mikal          15277.777778  15277.777778  15277.777778   \n",
      "استراحة       Al Faiha          16222.222222  16222.222222  16222.222222   \n",
      "مستودع        Al Yarmuk          5333.333333   5333.333333   5333.333333   \n",
      "مكتب تجاري    An Nazim           5000.000000   5000.000000   5000.000000   \n",
      "بيت           Jarir              4772.727273   4772.727273   4772.727273   \n",
      "\n",
      "                                         max  \n",
      "property_type district_name_en                \n",
      "محل           Al Mikal          15277.777778  \n",
      "استراحة       Al Faiha          16222.222222  \n",
      "مستودع        Al Yarmuk          5333.333333  \n",
      "مكتب تجاري    An Nazim           5000.000000  \n",
      "بيت           Jarir              4772.727273  \n"
     ]
    }
   ],
   "source": [
    "print(\"\\nLowest Standard Deviation in Price per Meter:\")\n",
    "print(lowest_std)\n"
   ]
  },
  {
   "cell_type": "code",
   "execution_count": 157,
   "id": "84c3c643",
   "metadata": {},
   "outputs": [
    {
     "name": "stdout",
     "output_type": "stream",
     "text": [
      "\n",
      "Potential Outliers with Highest Max Value:\n",
      "                                   count          mean           std  \\\n",
      "property_type district_name_en                                         \n",
      "استراحة       Dhahrat Namar         23.0  2.938877e+09  1.409401e+10   \n",
      "              Al Maizilah           25.0  3.753019e+08  1.875861e+09   \n",
      "محل           An Nasim Ash Sharqi   23.0  8.238752e+07  3.949045e+08   \n",
      "استراحة       Banban                29.0  5.993984e+07  3.227551e+08   \n",
      "محل           Laban                 13.0  7.147974e+07  2.567302e+08   \n",
      "\n",
      "                                           min          25%           50%  \\\n",
      "property_type district_name_en                                              \n",
      "استراحة       Dhahrat Namar        1481.481481  4416.666667   9125.000000   \n",
      "              Al Maizilah             0.888889  2756.892231   4245.283019   \n",
      "محل           An Nasim Ash Sharqi    67.500068  7256.944444  10416.666667   \n",
      "استراحة       Banban                 92.592593  1703.333333   2380.952381   \n",
      "محل           Laban                 333.333333  8333.333333  18229.166667   \n",
      "\n",
      "                                            75%           max  \n",
      "property_type district_name_en                                 \n",
      "استراحة       Dhahrat Namar        19939.814815  6.759259e+10  \n",
      "              Al Maizilah          11698.717949  9.379435e+09  \n",
      "محل           An Nasim Ash Sharqi  24166.666667  1.893939e+09  \n",
      "استراحة       Banban               10428.571429  1.738095e+09  \n",
      "محل           Laban                34313.725490  9.259250e+08  \n"
     ]
    }
   ],
   "source": [
    "print(\"\\nPotential Outliers with Highest Max Value:\")\n",
    "print(potential_outliers_max)"
   ]
  },
  {
   "cell_type": "code",
   "execution_count": 158,
   "id": "8e51dabb",
   "metadata": {},
   "outputs": [
    {
     "name": "stdout",
     "output_type": "stream",
     "text": [
      "\n",
      "Properties with Lowest Min Value indicating potential outliers or data issues:\n",
      "                                  count          mean           std       min  \\\n",
      "property_type district_name_en                                                  \n",
      "عمارة         Al Uraija             5.0  2.086621e+04  2.688352e+04  0.000000   \n",
      "أرض           An Nasim Al Gharbi   35.0  2.697102e+06  1.066860e+07  0.000014   \n",
      "استراحة       An Nasim Al Gharbi   47.0  4.487947e+04  1.397048e+05  0.000450   \n",
      "فيلا          King Abdul Aziz      32.0  7.114926e+03  1.439826e+04  0.001667   \n",
      "أرض           Ishbiliyah            9.0  4.258184e+03  2.869291e+03  0.004167   \n",
      "\n",
      "                                          25%           50%           75%  \\\n",
      "property_type district_name_en                                              \n",
      "عمارة         Al Uraija           5442.176871  10000.000000  22222.222222   \n",
      "أرض           An Nasim Al Gharbi   291.666720   2272.727273   5773.907104   \n",
      "استراحة       An Nasim Al Gharbi  1644.444444   3111.111111   7650.000000   \n",
      "فيلا          King Abdul Aziz     1163.213377   3827.838828   5354.166667   \n",
      "أرض           Ishbiliyah          3030.303030   5362.318841   5797.101449   \n",
      "\n",
      "                                           max  \n",
      "property_type district_name_en                  \n",
      "عمارة         Al Uraija           6.666667e+04  \n",
      "أرض           An Nasim Al Gharbi  6.083327e+07  \n",
      "استراحة       An Nasim Al Gharbi  6.400000e+05  \n",
      "فيلا          King Abdul Aziz     6.687243e+04  \n",
      "أرض           Ishbiliyah          8.333333e+03  \n"
     ]
    }
   ],
   "source": [
    "print(\"\\nProperties with Lowest Min Value indicating potential outliers or data issues:\")\n",
    "print(potential_outliers_min)\n"
   ]
  },
  {
   "cell_type": "markdown",
   "id": "fb70ddd0",
   "metadata": {},
   "source": [
    "### ================================================================================================================================================="
   ]
  },
  {
   "cell_type": "markdown",
   "id": "1201812c",
   "metadata": {},
   "source": [
    "## 5.Add any general insights you find during your work on the data"
   ]
  },
  {
   "cell_type": "markdown",
   "id": "398241c9",
   "metadata": {},
   "source": [
    "### ================================================================================================================================================="
   ]
  },
  {
   "cell_type": "code",
   "execution_count": 161,
   "id": "256ebb52",
   "metadata": {},
   "outputs": [
    {
     "data": {
      "image/png": "[encoded data removed]",
      "text/plain": [
       "<Figure size 1000x600 with 1 Axes>"
      ]
     },
     "metadata": {},
     "output_type": "display_data"
    },
    {
     "name": "stdout",
     "output_type": "stream",
     "text": [
      "فيلا                    34123\n",
      "شقة                     24675\n",
      "أرض                     21142\n",
      "عمارة                    6329\n",
      "دور                      5250\n",
      "استراحة                  3397\n",
      "محل                      2555\n",
      "بيت                       917\n",
      "مكتب تجاري                820\n",
      "مستودع                    383\n",
      "VILLA                     327\n",
      "مزرعة                     289\n",
      "APARTMENT                 175\n",
      "RESIDENTIAL-LAND          173\n",
      "مخيم                       73\n",
      "FLOOR                      53\n",
      "COMMERCIAL-LAND            27\n",
      "APARTMENT-COMPLEX           6\n",
      "REST                        6\n",
      "RES-COMM-BUILDING           6\n",
      "EXHIBITION                  4\n",
      "VILLA-APARTMENT             3\n",
      "FURNISHED-APARTMENT         3\n",
      "RESIDENTIAL-BUILDING        2\n",
      "VILLA-2-APARTMENTS          2\n",
      "STUDIO                      2\n",
      "OFFICE                      2\n",
      "قصر                         2\n",
      "غرفة                        2\n",
      "CASTLE                      1\n",
      "CHALET                      1\n",
      "BUILDING                    1\n",
      "COMMERCIAL-BUILDING         1\n",
      "SHOP                        1\n",
      "AGRICULTURAL-LAND           1\n",
      "FUR-APART-BUILDING          1\n",
      "ROOM                        1\n",
      "FARM                        1\n",
      "Name: property_type, dtype: int64\n"
     ]
    }
   ],
   "source": [
    "# Distribution of Properties by Type\n",
    "property_type_distribution = ad_table['property_type'].value_counts()\n",
    "\n",
    "# Plotting the distribution\n",
    "import matplotlib.pyplot as plt\n",
    "\n",
    "plt.figure(figsize=(10, 6))\n",
    "property_type_distribution.plot(kind='bar')\n",
    "plt.title('Distribution of Properties by Type')\n",
    "plt.xlabel('Property Type')\n",
    "plt.ylabel('Number of Properties')\n",
    "plt.xticks(rotation=45)\n",
    "plt.show()\n",
    "\n",
    "# Output the distribution\n",
    "print(property_type_distribution)\n"
   ]
  },
  {
   "cell_type": "markdown",
   "id": "5d2bbde9",
   "metadata": {},
   "source": [
    "### Recommendations for Further Analysis:\n",
    "\n",
    "1- Standardization of Property Types: Combining the counts of similarly named property types listed in both English and Arabic (e.g., VILLA and فيلا) could provide a more accurate distribution and understanding of the market.\n",
    "\n",
    "2- In-depth Analysis of Niche Properties: Exploring the characteristics and pricing of less common or unique properties might uncover specific market trends or investment opportunities.\n",
    "\n",
    "3- Market Segmentation: Further analysis could segment the market based on property types, identifying trends, demands, and pricing within each segment.\n"
   ]
  },
  {
   "cell_type": "code",
   "execution_count": null,
   "id": "3e0c8e67",
   "metadata": {},
   "outputs": [],
   "source": []
  }
 ],
 "metadata": {
  "kernelspec": {
   "display_name": "Python 3 (ipykernel)",
   "language": "python",
   "name": "python3"
  },
  "language_info": {
   "codemirror_mode": {
    "name": "ipython",
    "version": 3
   },
   "file_extension": ".py",
   "mimetype": "text/x-python",
   "name": "python",
   "nbconvert_exporter": "python",
   "pygments_lexer": "ipython3",
   "version": "3.9.10"
  }
 },
 "nbformat": 4,
 "nbformat_minor": 5
}
